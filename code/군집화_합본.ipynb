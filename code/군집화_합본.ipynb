{
  "cells": [
    {
      "cell_type": "markdown",
      "source": [
        "# 문제 2: 핀다 홈화면 진입 고객의 모델 기반 고객 군집 분석/군집 별 서비스 메시지 제안"
      ],
      "metadata": {
        "id": "HraHFy4rrTQV"
      }
    },
    {
      "cell_type": "markdown",
      "metadata": {
        "id": "9I_5YONTG662"
      },
      "source": [
        "user_id 별 1행만 사용(가장 최근 행)\n",
        "\\\n",
        "5월까지의 데이터만 사용\n",
        "\n",
        "\\\n",
        "(1) **log_data** : 행동 로그 분석을 위해 전처리한 train_log_data_1.csv 사용\n",
        "- app_count : 앱 사용빈도\n",
        "- GetCreditInfo : 신용조회 빈도\n",
        "- UseLoanManage : 대출관리 빈도\n",
        "- UsePrepayCalc : 여윳돈 계산기\n",
        "- UseDSRCalc : DSR 계산기 빈도\n",
        "- 빈도 별 변동성(variation) : 3, 4, 5월 빈도의 회귀계수\n",
        "- 신규 유저(new) : 주어진 기간 내 SignUp 이력이 있는 유저\n",
        "\n",
        "\\\n",
        "(2) **user_spec + loan_result** : 예측 모델링을 위해 전처리한 merged_df.csv 사용\n",
        "- 핀다 내 대출신청 횟수(applied_cnt) : is_applied==1 총합\n",
        "- 최근성(recency) : 최근 접속일로부터 6/1까지의 기간\n"
      ]
    },
    {
      "cell_type": "markdown",
      "source": [
        "# 데이터 전처리"
      ],
      "metadata": {
        "id": "LkXkJHPauBr-"
      }
    },
    {
      "cell_type": "code",
      "execution_count": null,
      "metadata": {
        "id": "3xuhIJOrCQsQ"
      },
      "outputs": [],
      "source": [
        "import pandas as pd\n",
        "import numpy as np"
      ]
    },
    {
      "cell_type": "code",
      "source": [
        "cls_df = pd.read_csv('/content/drive/Shareddrives/빅콘테스트/제출파일/Raw 데이터/train_log_data_1.csv')"
      ],
      "metadata": {
        "id": "GoOphcacB1db"
      },
      "execution_count": null,
      "outputs": []
    },
    {
      "cell_type": "code",
      "source": [
        "cls_df.drop(['refer_event_2','refer_event_3','refer_event_4','refer_event_5',\n",
        "             'week_pop','spend_time','stay_time'], axis=1, inplace=True)\n",
        "cls_df['timestamp'] = pd.to_datetime(cls_df['timestamp'])\n",
        "cls_df['month'] = cls_df['timestamp'].dt.month"
      ],
      "metadata": {
        "id": "U6GUSBhdD4lg"
      },
      "execution_count": null,
      "outputs": []
    },
    {
      "cell_type": "code",
      "source": [
        "print('log_data에서 user_id의 개수: ', cls_df['user_id'].nunique())"
      ],
      "metadata": {
        "id": "0Vu4dnhMFDh0"
      },
      "execution_count": null,
      "outputs": []
    },
    {
      "cell_type": "markdown",
      "source": [
        "## 앱 사용빈도"
      ],
      "metadata": {
        "id": "JTaCybXW3Zag"
      }
    },
    {
      "cell_type": "markdown",
      "source": [
        "앱 사용 로그 중 OpenApp이 있으나 OpenApp 로그 없이도 앱 사용 이력이 있는 로그가 존재.\n",
        "\\\n",
        "전처리된 log_data에는 모든 접속 시작 이력이 표시되어 있으므로 이를 사용. (train_log_data_1.csv)"
      ],
      "metadata": {
        "id": "6ajc9hJVodOI"
      }
    },
    {
      "cell_type": "code",
      "source": [
        "openapp_cnt = cls_df[cls_df['refer_event_1']=='start'].groupby(['user_id','month']).count()['refer_event_1']\n",
        "openapp = openapp_cnt.reset_index()\n",
        "openapp = openapp.rename(columns = {'refer_event_1':'app_count'})\n",
        "openapp"
      ],
      "metadata": {
        "id": "KWSc2x2jmK7Y"
      },
      "execution_count": null,
      "outputs": []
    },
    {
      "cell_type": "code",
      "source": [
        "# 3, 4, 5월 별 횟수\n",
        "openapp['app_count_3'] = openapp['app_count']\n",
        "openapp.loc[openapp['month']!=3, 'app_count_3'] = 0\n",
        "\n",
        "openapp['app_count_4'] = openapp['app_count']\n",
        "openapp.loc[openapp['month']!=4, 'app_count_4'] = 0\n",
        "\n",
        "openapp['app_count_5'] = openapp['app_count']\n",
        "openapp.loc[openapp['month']!=5, 'app_count_5'] = 0"
      ],
      "metadata": {
        "id": "VxRKkBBM29gE"
      },
      "execution_count": null,
      "outputs": []
    },
    {
      "cell_type": "code",
      "source": [
        "openapp = openapp.groupby('user_id').sum().reset_index().drop('month',axis=1)\n",
        "openapp"
      ],
      "metadata": {
        "id": "e0Y7pzhE3bqa"
      },
      "execution_count": null,
      "outputs": []
    },
    {
      "cell_type": "markdown",
      "metadata": {
        "id": "8OcGetpmBx8N"
      },
      "source": [
        "## 서비스별 이용 빈도"
      ]
    },
    {
      "cell_type": "markdown",
      "source": [
        "이벤트 별로 One-hot encoding을 하고, user_id별로 총합을 구하여 서비스별 이용 횟수의 총합을 구함."
      ],
      "metadata": {
        "id": "0BFntDU0p96B"
      }
    },
    {
      "cell_type": "markdown",
      "source": [
        "### encoding"
      ],
      "metadata": {
        "id": "a3TzwCXfqKNZ"
      }
    },
    {
      "cell_type": "code",
      "execution_count": null,
      "metadata": {
        "id": "aNMc5O4RbbEa"
      },
      "outputs": [],
      "source": [
        "#event\n",
        "cls_df['event'].value_counts()"
      ]
    },
    {
      "cell_type": "code",
      "execution_count": null,
      "metadata": {
        "id": "GymNlWGNGCYz"
      },
      "outputs": [],
      "source": [
        "from sklearn.preprocessing import OneHotEncoder\n",
        "\n",
        "ohe = OneHotEncoder(sparse=False)\n",
        "# fit_transform은 train에만 사용하고 test에는 학습된 인코더에 fit만 해야한다\n",
        "event_cat = ohe.fit_transform(cls_df[['event']])\n",
        "\n",
        "event_cat = pd.DataFrame(event_cat, columns=[col for col in ohe.categories_[0]])"
      ]
    },
    {
      "cell_type": "code",
      "source": [
        "event_cat[['user_id','month']] = cls_df[['user_id','month']]\n",
        "event_cat"
      ],
      "metadata": {
        "id": "Ns7y-JHcmeLM"
      },
      "execution_count": null,
      "outputs": []
    },
    {
      "cell_type": "markdown",
      "source": [
        "### 서비스별 이용 빈도 계산"
      ],
      "metadata": {
        "id": "7l5M417FvUAJ"
      }
    },
    {
      "cell_type": "code",
      "source": [
        "event_cnt = event_cat.groupby(['user_id','month']).sum()[['GetCreditInfo','SignUp',\n",
        "                                                'UseLoanManage','UseDSRCalc','UsePrepayCalc']].reset_index()\n",
        "event_cnt"
      ],
      "metadata": {
        "id": "qbVLO13zGAs_"
      },
      "execution_count": null,
      "outputs": []
    },
    {
      "cell_type": "code",
      "source": [
        "# 3, 4, 5월 별 횟수\n",
        "event_cnt['credit_count_3'] = event_cnt['GetCreditInfo']\n",
        "event_cnt.loc[event_cnt['month']!=3, 'credit_count_3'] = 0\n",
        "\n",
        "event_cnt['credit_count_4'] = event_cnt['GetCreditInfo']\n",
        "event_cnt.loc[event_cnt['month']!=4, 'credit_count_4'] = 0\n",
        "\n",
        "event_cnt['credit_count_5'] = event_cnt['GetCreditInfo']\n",
        "event_cnt.loc[event_cnt['month']!=5, 'credit_count_5'] = 0"
      ],
      "metadata": {
        "id": "sP0s-_EB59nF"
      },
      "execution_count": null,
      "outputs": []
    },
    {
      "cell_type": "code",
      "source": [
        "# 3, 4, 5월 별 횟수\n",
        "event_cnt['loan_count_3'] = event_cnt['UseLoanManage']\n",
        "event_cnt.loc[event_cnt['month']!=3, 'loan_count_3'] = 0\n",
        "\n",
        "event_cnt['loan_count_4'] = event_cnt['UseLoanManage']\n",
        "event_cnt.loc[event_cnt['month']!=4, 'loan_count_4'] = 0\n",
        "\n",
        "event_cnt['loan_count_5'] = event_cnt['UseLoanManage']\n",
        "event_cnt.loc[event_cnt['month']!=5, 'loan_count_5'] = 0"
      ],
      "metadata": {
        "id": "cYTE_k1J6byi"
      },
      "execution_count": null,
      "outputs": []
    },
    {
      "cell_type": "code",
      "source": [
        "# 3, 4, 5월 별 횟수\n",
        "event_cnt['dsr_count_3'] = event_cnt['UseDSRCalc']\n",
        "event_cnt.loc[event_cnt['month']!=3, 'dsr_count_3'] = 0\n",
        "\n",
        "event_cnt['dsr_count_4'] = event_cnt['UseDSRCalc']\n",
        "event_cnt.loc[event_cnt['month']!=4, 'dsr_count_4'] = 0\n",
        "\n",
        "event_cnt['dsr_count_5'] = event_cnt['UseDSRCalc']\n",
        "event_cnt.loc[event_cnt['month']!=5, 'dsr_count_5'] = 0"
      ],
      "metadata": {
        "id": "NJFowtKw6bwR"
      },
      "execution_count": null,
      "outputs": []
    },
    {
      "cell_type": "code",
      "source": [
        "# 3, 4, 5월 별 횟수\n",
        "event_cnt['prepay_count_3'] = event_cnt['UsePrepayCalc']\n",
        "event_cnt.loc[event_cnt['month']!=3, 'prepay_count_3'] = 0\n",
        "\n",
        "event_cnt['prepay_count_4'] = event_cnt['UsePrepayCalc']\n",
        "event_cnt.loc[event_cnt['month']!=4, 'prepay_count_4'] = 0\n",
        "\n",
        "event_cnt['prepay_count_5'] = event_cnt['UsePrepayCalc']\n",
        "event_cnt.loc[event_cnt['month']!=5, 'prepay_count_5'] = 0"
      ],
      "metadata": {
        "id": "_s0ROlzs6buE"
      },
      "execution_count": null,
      "outputs": []
    },
    {
      "cell_type": "code",
      "source": [
        "event_cnt = event_cnt.groupby('user_id').sum().reset_index().drop('month',axis=1)\n",
        "event_cnt"
      ],
      "metadata": {
        "id": "wpusPwQe6bpM"
      },
      "execution_count": null,
      "outputs": []
    },
    {
      "cell_type": "markdown",
      "metadata": {
        "id": "hfy-OPcpMeXl"
      },
      "source": [
        "## 핀다 내 대출횟수"
      ]
    },
    {
      "cell_type": "markdown",
      "source": [
        "user_spec과 loan_result를 결합한 테이블(merged_df.csv)에서 is_applied=1인 횟수를 구하여 유저가 핀다 내에서 얼마나 대출을 신청했는지 횟수를 구함."
      ],
      "metadata": {
        "id": "vYCfTNkbrQ7r"
      }
    },
    {
      "cell_type": "code",
      "source": [
        "# user_spec과 loan_result가 결합된 테이블 불러오기\n",
        "result = pd.read_csv('/content/drive/Shareddrives/빅콘테스트/제출파일/Raw 데이터/merged_df.csv')"
      ],
      "metadata": {
        "id": "jIgvBnD86fcW"
      },
      "execution_count": null,
      "outputs": []
    },
    {
      "cell_type": "code",
      "source": [
        "print('user_spec+loan_result에서 user_id의 개수: ', result['user_id'].nunique()) #259313"
      ],
      "metadata": {
        "id": "YIDWkHiurqYb"
      },
      "execution_count": null,
      "outputs": []
    },
    {
      "cell_type": "code",
      "source": [
        "applied_cnt = result.groupby(['user_id','month']).sum()['is_applied'].reset_index()"
      ],
      "metadata": {
        "id": "0cxLBdBY-y7f"
      },
      "execution_count": null,
      "outputs": []
    },
    {
      "cell_type": "code",
      "source": [
        "# 3, 4, 5월 횟수\n",
        "applied_cnt['applied_count_3'] = applied_cnt['is_applied']\n",
        "applied_cnt.loc[applied_cnt['month']!=3, 'applied_count_3'] = 0\n",
        "\n",
        "applied_cnt['applied_count_4'] = applied_cnt['is_applied']\n",
        "applied_cnt.loc[applied_cnt['month']!=4, 'applied_count_4'] = 0\n",
        "\n",
        "applied_cnt['applied_count_5'] = applied_cnt['is_applied']\n",
        "applied_cnt.loc[applied_cnt['month']!=5, 'applied_count_5'] = 0"
      ],
      "metadata": {
        "id": "j-5vkzMD-y3-"
      },
      "execution_count": null,
      "outputs": []
    },
    {
      "cell_type": "code",
      "source": [
        "applied_cnt = applied_cnt.groupby('user_id').sum().reset_index().drop('month',axis=1)\n",
        "applied_cnt.rename(columns={'is_applied':'applied_cnt'}, inplace=True)\n",
        "applied_cnt"
      ],
      "metadata": {
        "id": "gwWqkC4L-y0e"
      },
      "execution_count": null,
      "outputs": []
    },
    {
      "cell_type": "markdown",
      "source": [
        "## 데이터 합치기"
      ],
      "metadata": {
        "id": "DK_NOIvwtnrl"
      }
    },
    {
      "cell_type": "code",
      "source": [
        "cls_df = cls_df.drop_duplicates(['user_id'], keep='last')\n",
        "cls_df"
      ],
      "metadata": {
        "id": "ULCHOsXdtqKz"
      },
      "execution_count": null,
      "outputs": []
    },
    {
      "cell_type": "code",
      "source": [
        "print('log_data와 user+loan_result에 공통된 user_id:',\n",
        "    len(sorted(list(set(cls_df['user_id']) & set(applied_cnt['user_id'])))))"
      ],
      "metadata": {
        "id": "WIgTdyAstqD6"
      },
      "execution_count": null,
      "outputs": []
    },
    {
      "cell_type": "code",
      "source": [
        "cls_df = pd.merge(cls_df, openapp, how='inner', on='user_id')"
      ],
      "metadata": {
        "id": "ZzzsOXaCzS3R"
      },
      "execution_count": null,
      "outputs": []
    },
    {
      "cell_type": "code",
      "source": [
        "cls_df = pd.merge(cls_df, event_cnt, how='inner', on='user_id')"
      ],
      "metadata": {
        "id": "h0FfCbFEvaTA"
      },
      "execution_count": null,
      "outputs": []
    },
    {
      "cell_type": "code",
      "source": [
        "cls_df = pd.merge(cls_df, applied_cnt, how='inner', on='user_id')"
      ],
      "metadata": {
        "id": "fTFaogfov1aA"
      },
      "execution_count": null,
      "outputs": []
    },
    {
      "cell_type": "markdown",
      "source": [
        "## recency"
      ],
      "metadata": {
        "id": "yVf12nykwxho"
      }
    },
    {
      "cell_type": "markdown",
      "source": [
        "6/1 기준 마지막 접속일로부터 며칠이 지났는지."
      ],
      "metadata": {
        "id": "FmwKTBYDtSSw"
      }
    },
    {
      "cell_type": "code",
      "source": [
        "from datetime import datetime\n",
        "\n",
        "cls_df['recency'] = datetime.strptime('2022-06-01', '%Y-%m-%d') - cls_df['timestamp']\n",
        "cls_df['recency'] = cls_df['recency'].dt.days\n",
        "\n",
        "cls_df"
      ],
      "metadata": {
        "id": "y6OWxn0cw5Qm"
      },
      "execution_count": null,
      "outputs": []
    },
    {
      "cell_type": "markdown",
      "source": [
        "## 신규유저"
      ],
      "metadata": {
        "id": "yNytzluYxWBg"
      }
    },
    {
      "cell_type": "markdown",
      "source": [
        "주어진 기간(3, 4, 5월) 내 SignUp 이력이 있는 경우."
      ],
      "metadata": {
        "id": "IpDpYuUStXIu"
      }
    },
    {
      "cell_type": "code",
      "source": [
        "cls_df['new'] = 0\n",
        "\n",
        "cls_df.loc[cls_df['SignUp']>0, 'new'] = 1\n",
        "cls_df"
      ],
      "metadata": {
        "id": "CDGH9K6rw1E1"
      },
      "execution_count": null,
      "outputs": []
    },
    {
      "cell_type": "markdown",
      "source": [
        "## 기능별 시계열 변수"
      ],
      "metadata": {
        "id": "JvryG1mvuMhe"
      }
    },
    {
      "cell_type": "code",
      "source": [
        "# 회귀계수\n",
        "b_app_array = []\n",
        "for i in range(len(cls_df)):\n",
        "  x = [3, 4, 5]\n",
        "  y = [cls_df.iloc[i,8],cls_df.iloc[i,9], cls_df.iloc[i,10]]\n",
        "  fit_line = np.polyfit(x, y, 1)\n",
        "  b_app_array.append(fit_line[0])\n",
        "\n",
        "b_credit_array = []\n",
        "for i in range(len(cls_df)):\n",
        "  x = [3, 4, 5]\n",
        "  y = [cls_df.iloc[i,16],cls_df.iloc[i,17], cls_df.iloc[i,18]]\n",
        "  fit_line = np.polyfit(x, y, 1)\n",
        "  b_credit_array.append(fit_line[0])\n",
        "\n",
        "b_prepay_array = []\n",
        "for i in range(len(cls_df)):\n",
        "  x = [3, 4, 5]\n",
        "  y = [cls_df.iloc[i,25],cls_df.iloc[i,26], cls_df.iloc[i,27]]\n",
        "  fit_line = np.polyfit(x, y, 1)\n",
        "  b_prepay_array.append(fit_line[0])\n",
        "\n",
        "b_dsr_array = []\n",
        "for i in range(len(cls_df)):\n",
        "  x = [3, 4, 5]\n",
        "  y = [cls_df.iloc[i,22],cls_df.iloc[i,23], cls_df.iloc[i,24]]\n",
        "  fit_line = np.polyfit(x, y, 1)\n",
        "  b_dsr_array.append(fit_line[0])\n",
        "\n",
        "b_loan_array = []\n",
        "for i in range(len(cls_df)):\n",
        "  x = [3, 4, 5]\n",
        "  y = [cls_df.iloc[i,19],cls_df.iloc[i,20], cls_df.iloc[i,21]]\n",
        "  fit_line = np.polyfit(x, y, 1)\n",
        "  b_loan_array.append(fit_line[0])\n",
        "\n",
        "b_applied_array = []\n",
        "for i in range(len(cls_df)):\n",
        "  x = [3, 4, 5]\n",
        "  y = [cls_df.iloc[i,29],cls_df.iloc[i,30], cls_df.iloc[i,31]]\n",
        "  fit_line = np.polyfit(x, y, 1)\n",
        "  b_applied_array.append(fit_line[0])"
      ],
      "metadata": {
        "id": "VIH82OpbDOuM"
      },
      "execution_count": null,
      "outputs": []
    },
    {
      "cell_type": "code",
      "source": [
        "cls_df['app_variation'] = b_app_array\n",
        "cls_df['credit_variation'] = b_credit_array\n",
        "cls_df['prepay_variation'] = b_prepay_array\n",
        "cls_df['dsr_variation'] = b_dsr_array\n",
        "cls_df['loan_variation'] = b_loan_array\n",
        "cls_df['applied_variation'] = b_applied_array"
      ],
      "metadata": {
        "id": "U_pIxhRCDcMq"
      },
      "execution_count": null,
      "outputs": []
    },
    {
      "cell_type": "markdown",
      "source": [
        "# 군집 분석\n",
        "**K - means 모델 사용**\n",
        "- k = 6"
      ],
      "metadata": {
        "id": "K5e6x2wgghg-"
      }
    },
    {
      "cell_type": "code",
      "source": [
        "# cls_df = pd.read_csv('/content/drive/Shareddrives/빅콘테스트/데이터/군집화/cluster_df.csv')"
      ],
      "metadata": {
        "id": "cqdNn4fpjTX3"
      },
      "execution_count": null,
      "outputs": []
    },
    {
      "cell_type": "code",
      "execution_count": null,
      "metadata": {
        "id": "PhJexfuaKZ5A"
      },
      "outputs": [],
      "source": [
        "# 변수 선택\n",
        "df_cluster = cls_df[['app_count','app_variation',\n",
        "                 'GetCreditInfo', 'credit_variation',\n",
        "                 'UsePrepayCalc', 'prepay_variation',\n",
        "                 'dsr_variation', 'UseDSRCalc',\n",
        "                 'UseLoanManage', 'loan_variation',\n",
        "                'applied_cnt', 'applied_variation',\n",
        "                 'recency', 'new']]"
      ]
    },
    {
      "cell_type": "code",
      "execution_count": null,
      "metadata": {
        "id": "MnMurX6ogwlX"
      },
      "outputs": [],
      "source": [
        "from sklearn.cluster import KMeans\n",
        "from sklearn.preprocessing import StandardScaler\n",
        "\n",
        "#표준화\n",
        "sc = StandardScaler()\n",
        "df_scaled = sc.fit_transform(df_cluster)\n",
        "pd.DataFrame(df_scaled)"
      ]
    },
    {
      "cell_type": "code",
      "execution_count": null,
      "metadata": {
        "id": "IBswJ7Y2g8nH"
      },
      "outputs": [],
      "source": [
        "# 클러스터링\n",
        "kmeans = KMeans(n_clusters=6, random_state=0)\n",
        "clusters = kmeans.fit(df_scaled)\n",
        "\n",
        "# 클러스터링 변수\n",
        "df_cluster['cluster'] = clusters.labels_\n",
        "df_cluster.head(2)"
      ]
    },
    {
      "cell_type": "markdown",
      "source": [
        "KMeans 함수에서 random_state = 0으로 지정해 centroid의 초기값을 고정함. centroid 초기값을 고정하여도 군집 계산 과정에서 완벽하게 재현되지 않음. 군집 라벨링 및 군집 별 수치(평균, 중앙값)가 완벽하게 재현되지 않을 수 있지만 각 군집의 특성과 해석은 변함없음."
      ],
      "metadata": {
        "id": "aPt7axj2g9al"
      }
    },
    {
      "cell_type": "code",
      "execution_count": null,
      "metadata": {
        "id": "LTAmXbelhyHq"
      },
      "outputs": [],
      "source": [
        "# cluster를 기준으로 데이터 개수\n",
        "df_cluster.groupby('cluster').count()"
      ]
    },
    {
      "cell_type": "code",
      "execution_count": null,
      "metadata": {
        "id": "8kMzzuhuh-rg"
      },
      "outputs": [],
      "source": [
        "# 그룹별 중앙값\n",
        "df_cluster.groupby('cluster').median()"
      ]
    },
    {
      "cell_type": "code",
      "execution_count": null,
      "metadata": {
        "id": "M8jO5xvjh-rg"
      },
      "outputs": [],
      "source": [
        "# 그룹별 평균값\n",
        "df_cluster.groupby('cluster').mean()"
      ]
    },
    {
      "cell_type": "code",
      "source": [
        "# 모델 저장하기\n",
        "import joblib\n",
        "joblib.dump(kmeans, '/content/drive/Shareddrives/빅콘테스트/제출파일/Raw 데이터/clustering_model.pkl') # 불러올 때는 kmeans = joblib.load('파일명')"
      ],
      "metadata": {
        "id": "JSkC3nANAMjv"
      },
      "execution_count": null,
      "outputs": []
    },
    {
      "cell_type": "code",
      "source": [
        "import plotly.graph_objects as go\n",
        "\n",
        "ks = range(1,25)\n",
        "inertias = []\n",
        "\n",
        "for k in ks:\n",
        "  model = KMeans(n_clusters=k)\n",
        "  model.fit(df_scaled)\n",
        "  inertias.append(model.inertia_)"
      ],
      "metadata": {
        "id": "dfLhTdd6WSX1"
      },
      "execution_count": null,
      "outputs": []
    },
    {
      "cell_type": "code",
      "source": [
        "fig = go.Figure(data = go.Scatter(x=list(ks), y = list(inertias), mode = 'lines+markers', ))\n",
        "fig.update_layout(\n",
        "    autosize=False,\n",
        "    width=600)\n",
        "fig.show()"
      ],
      "metadata": {
        "id": "CkwHQ_i1qX3l"
      },
      "execution_count": null,
      "outputs": []
    },
    {
      "cell_type": "code",
      "source": [
        "df_cluster.to_csv('/final_df_cluster.csv', index = False)"
      ],
      "metadata": {
        "id": "Bq0mXf07U2u3"
      },
      "execution_count": null,
      "outputs": []
    }
  ],
  "metadata": {
    "colab": {
      "machine_shape": "hm",
      "provenance": [],
      "toc_visible": true
    },
    "kernelspec": {
      "display_name": "Python 3",
      "name": "python3"
    },
    "language_info": {
      "name": "python"
    }
  },
  "nbformat": 4,
  "nbformat_minor": 0
}