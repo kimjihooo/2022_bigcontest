{
  "cells": [
    {
      "cell_type": "markdown",
      "metadata": {
        "id": "27u5LIlC34BJ"
      },
      "source": [
        "# 환경 세팅"
      ]
    },
    {
      "cell_type": "code",
      "source": [
        "!pip install category_encoders"
      ],
      "metadata": {
        "id": "aCinXXJAbfIs",
        "colab": {
          "base_uri": "https://localhost:8080/"
        },
        "outputId": "bfdf0e45-e8a0-4152-e53c-ddd9fe03fbc1"
      },
      "execution_count": null,
      "outputs": [
        {
          "output_type": "stream",
          "name": "stdout",
          "text": [
            "Installing collected packages: category-encoders\n",
            "Successfully installed category-encoders-2.5.1.post0\n"
          ]
        }
      ]
    },
    {
      "cell_type": "code",
      "execution_count": null,
      "metadata": {
        "id": "0XHyUzpc4YKZ"
      },
      "outputs": [],
      "source": [
        "import pandas as pd\n",
        "from sklearn.preprocessing import StandardScaler, MinMaxScaler\n",
        "import numpy as np\n",
        "from sklearn.metrics import f1_score"
      ]
    },
    {
      "cell_type": "markdown",
      "metadata": {
        "id": "Yff8qBjh29FM"
      },
      "source": [
        "# 데이터 불러오기"
      ]
    },
    {
      "cell_type": "code",
      "execution_count": null,
      "metadata": {
        "id": "_O7-ZTQI3IRv"
      },
      "outputs": [],
      "source": [
        "train = pd.read_csv(\"/content/drive/Shareddrives/빅콘테스트/221009/1009_train.csv\")\n",
        "test = pd.read_csv(\"/content/drive/Shareddrives/빅콘테스트/221009/1009_test.csv\")\n",
        "real_test = pd.read_csv(\"/preprocessed_test.csv\")"
      ]
    },
    {
      "cell_type": "code",
      "source": [
        "test_fin = real_test.copy()"
      ],
      "metadata": {
        "id": "c2Ft0RhX4AjH"
      },
      "execution_count": null,
      "outputs": []
    },
    {
      "cell_type": "code",
      "execution_count": null,
      "metadata": {
        "id": "UITTV2BLTqzK"
      },
      "outputs": [],
      "source": [
        "df_train = train[train['week_num'] <18].reset_index(drop=True)\n",
        "df_val = train[train['week_num']>=18].reset_index(drop=True)\n",
        "train = df_train.copy()\n",
        "val = df_val.copy()"
      ]
    },
    {
      "cell_type": "code",
      "execution_count": null,
      "metadata": {
        "id": "Bj9U6QEtsEqP"
      },
      "outputs": [],
      "source": [
        "train['bank_id'] = train['bank_id'].astype(str)\n",
        "train['product_id'] = train['product_id'].astype(str)\n",
        "train['user_id'] = train['user_id'].astype(str)"
      ]
    },
    {
      "cell_type": "code",
      "execution_count": null,
      "metadata": {
        "id": "ufH2bbW0sEqP"
      },
      "outputs": [],
      "source": [
        "val['bank_id'] = val['bank_id'].astype(str)\n",
        "val['product_id'] = val['product_id'].astype(str)\n",
        "val['user_id'] = val['user_id'].astype(str)"
      ]
    },
    {
      "cell_type": "code",
      "execution_count": null,
      "metadata": {
        "id": "l6hKi9S5sEqQ"
      },
      "outputs": [],
      "source": [
        "test['bank_id'] = test['bank_id'].astype(str)\n",
        "test['product_id'] = test['product_id'].astype(str)\n",
        "test['user_id'] = test['user_id'].astype(str)"
      ]
    },
    {
      "cell_type": "code",
      "execution_count": null,
      "metadata": {
        "id": "3QMyZu7jiiFi"
      },
      "outputs": [],
      "source": [
        "real_test['bank_id'] = real_test['bank_id'].astype(str)\n",
        "real_test['product_id'] = real_test['product_id'].astype(str)\n",
        "real_test['user_id'] = real_test['user_id'].astype(str)"
      ]
    },
    {
      "cell_type": "markdown",
      "metadata": {
        "id": "UPganxzQ3i4P"
      },
      "source": [
        "# 전처리\n",
        "- standard scaling\n",
        "- onehot encoding, ordinal encoding"
      ]
    },
    {
      "cell_type": "code",
      "execution_count": null,
      "metadata": {
        "colab": {
          "base_uri": "https://localhost:8080/"
        },
        "id": "4H4CuemBTqzL",
        "outputId": "a77680dc-31fc-4795-ac12-045c2a5983d1"
      },
      "outputs": [
        {
          "output_type": "stream",
          "name": "stdout",
          "text": [
            "Number of Numerical features:  34\n",
            "Number of Categorical features:  8\n",
            "Number of Numerical features for test:  34\n",
            "Number of Categorical features for test:  8\n"
          ]
        }
      ],
      "source": [
        "numerical_feats = train.dtypes[train.dtypes != \"object\"].index.tolist()\n",
        "numerical_feats.remove('is_applied')\n",
        "print(\"Number of Numerical features: \", len(numerical_feats))\n",
        "\n",
        "categorical_feats = train.dtypes[train.dtypes == \"object\"].index.tolist()\n",
        "print(\"Number of Categorical features: \", len(categorical_feats))\n",
        "\n",
        "test_numerical_feats = real_test.dtypes[real_test.dtypes != \"object\"].index.tolist()\n",
        "test_numerical_feats.remove('is_applied')\n",
        "print(\"Number of Numerical features for test: \", len(test_numerical_feats))\n",
        "\n",
        "test_categorical_feats = real_test.dtypes[real_test.dtypes == \"object\"].index.tolist()\n",
        "print(\"Number of Categorical features for test: \", len(test_categorical_feats))"
      ]
    },
    {
      "cell_type": "code",
      "execution_count": null,
      "metadata": {
        "id": "kVNHXKKE5Nqg"
      },
      "outputs": [],
      "source": [
        "ordinal_cate = ['bank_id','product_id','user_id']\n",
        "onehot_cate = [ 'income_type','employment_type','houseown_type','purpose']"
      ]
    },
    {
      "cell_type": "code",
      "execution_count": null,
      "metadata": {
        "id": "Nm3H_5DITqzM"
      },
      "outputs": [],
      "source": [
        "#OrdinalEncoder : 카테고리 변수는 ordinal_encoder 변환\n",
        "from category_encoders.ordinal import OrdinalEncoder\n",
        "encoder = OrdinalEncoder(ordinal_cate)\n",
        "train[ordinal_cate] = encoder.fit_transform(train[ordinal_cate], train['is_applied'])\n",
        "val[ordinal_cate] = encoder.transform(val[ordinal_cate])\n",
        "test[ordinal_cate] = encoder.transform(test[ordinal_cate])\n",
        "real_test[ordinal_cate] = encoder.transform(real_test[ordinal_cate])"
      ]
    },
    {
      "cell_type": "code",
      "execution_count": null,
      "metadata": {
        "colab": {
          "base_uri": "https://localhost:8080/"
        },
        "id": "v6PpbWxn6aQ_",
        "outputId": "cd663ae0-9df3-44df-a628-242208961fa4"
      },
      "outputs": [
        {
          "output_type": "stream",
          "name": "stderr",
          "text": [
            "/usr/local/lib/python3.7/dist-packages/sklearn/utils/deprecation.py:87: FutureWarning: Function get_feature_names is deprecated; get_feature_names is deprecated in 1.0 and will be removed in 1.2. Please use get_feature_names_out instead.\n",
            "  warnings.warn(msg, category=FutureWarning)\n"
          ]
        }
      ],
      "source": [
        "from sklearn.preprocessing import OneHotEncoder\n",
        "OH_encoder = OneHotEncoder(handle_unknown='ignore', sparse=False)\n",
        "\n",
        "OH_cols_train = pd.DataFrame(OH_encoder.fit_transform(train[onehot_cate]))\n",
        "OH_cols_valid = pd.DataFrame(OH_encoder.transform(val[onehot_cate]))\n",
        "OH_cols_test = pd.DataFrame(OH_encoder.transform(test[onehot_cate]))\n",
        "OH_cols_real_test = pd.DataFrame(OH_encoder.transform(real_test[onehot_cate]))\n",
        "\n",
        "OH_cols_train.index = train.index\n",
        "OH_cols_valid.index = val.index\n",
        "OH_cols_test.index = test.index\n",
        "OH_cols_real_test.index = real_test.index\n",
        "\n",
        "OH_cols_train.columns = OH_encoder.get_feature_names(onehot_cate)\n",
        "OH_cols_valid.columns = OH_encoder.get_feature_names(onehot_cate)\n",
        "OH_cols_test.columns = OH_encoder.get_feature_names(onehot_cate)\n",
        "OH_cols_real_test.columns = OH_encoder.get_feature_names(onehot_cate)\n",
        "\n",
        "num_X_train = train.drop(onehot_cate, axis=1)\n",
        "num_X_valid = val.drop(onehot_cate, axis=1)\n",
        "num_X_test = test.drop(onehot_cate, axis=1)\n",
        "num_X_real_test = real_test.drop(onehot_cate, axis=1)\n",
        "\n",
        "\n",
        "train = pd.concat([num_X_train, OH_cols_train], axis=1)\n",
        "val= pd.concat([num_X_valid, OH_cols_valid], axis=1)\n",
        "test= pd.concat([num_X_test, OH_cols_test], axis=1)\n",
        "real_test= pd.concat([num_X_real_test, OH_cols_real_test], axis=1)"
      ]
    },
    {
      "cell_type": "code",
      "execution_count": null,
      "metadata": {
        "id": "RJ_rSrHRTqzN"
      },
      "outputs": [],
      "source": [
        "scaler = StandardScaler()\n",
        "train[numerical_feats] = scaler.fit_transform(train[numerical_feats])\n",
        "val[numerical_feats] = scaler.transform(val[numerical_feats])\n",
        "test[numerical_feats] = scaler.transform(test[numerical_feats])\n",
        "real_test[numerical_feats] = scaler.transform(real_test[numerical_feats])"
      ]
    },
    {
      "cell_type": "markdown",
      "source": [
        "## 전처리한거 다시 다운"
      ],
      "metadata": {
        "id": "t09wSKTq6R1e"
      }
    },
    {
      "cell_type": "code",
      "source": [
        "train = pd.read_csv(\"/train.csv\")\n",
        "val = pd.read_csv(\"/val.csv\")\n",
        "real_test = pd.read_csv(\"/real_test.csv\")"
      ],
      "metadata": {
        "id": "Smy3B-RzmlDh"
      },
      "execution_count": null,
      "outputs": []
    },
    {
      "cell_type": "code",
      "source": [
        "target = 'is_applied'\n",
        "X_train, X_valid, y_train, y_valid = train.drop(target, axis=1), val.drop(target, axis=1), train[target], val[target]\n",
        "X_real_test = real_test.drop(target, axis=1)"
      ],
      "metadata": {
        "id": "H551V-paTqzO"
      },
      "execution_count": null,
      "outputs": []
    },
    {
      "cell_type": "markdown",
      "metadata": {
        "id": "4YqceMqww8NH"
      },
      "source": [
        "# LGBM"
      ]
    },
    {
      "cell_type": "code",
      "execution_count": null,
      "metadata": {
        "colab": {
          "base_uri": "https://localhost:8080/"
        },
        "id": "TShY6DlnxuVT",
        "outputId": "2b293687-004f-41c4-9363-88b0a8e964cf"
      },
      "outputs": [
        {
          "name": "stderr",
          "output_type": "stream",
          "text": [
            "\u001b[32m[I 2022-10-09 10:33:04,443]\u001b[0m A new study created in memory with name: no-name-0fae22eb-213c-4a4d-8451-7f8fef3044ac\u001b[0m\n",
            "\u001b[32m[I 2022-10-09 10:34:31,422]\u001b[0m Trial 0 finished with value: 0.5317711958343 and parameters: {'max_depth': 9, 'max_leaf_nodes': 327, 'n_estimators': 125}. Best is trial 0 with value: 0.5317711958343.\u001b[0m\n",
            "\u001b[32m[I 2022-10-09 10:35:45,893]\u001b[0m Trial 1 finished with value: 0.5279684438619938 and parameters: {'max_depth': 6, 'max_leaf_nodes': 84, 'n_estimators': 158}. Best is trial 0 with value: 0.5317711958343.\u001b[0m\n",
            "\u001b[32m[I 2022-10-09 10:37:41,061]\u001b[0m Trial 2 finished with value: 0.5167623436646732 and parameters: {'max_depth': 3, 'max_leaf_nodes': 915, 'n_estimators': 392}. Best is trial 0 with value: 0.5317711958343.\u001b[0m\n",
            "\u001b[32m[I 2022-10-09 10:39:13,843]\u001b[0m Trial 3 finished with value: 0.5116549329081254 and parameters: {'max_depth': 3, 'max_leaf_nodes': 516, 'n_estimators': 311}. Best is trial 0 with value: 0.5317711958343.\u001b[0m\n",
            "\u001b[32m[I 2022-10-09 10:40:33,647]\u001b[0m Trial 4 finished with value: 0.4534312586188196 and parameters: {'max_depth': 1, 'max_leaf_nodes': 87, 'n_estimators': 411}. Best is trial 0 with value: 0.5317711958343.\u001b[0m\n",
            "\u001b[32m[I 2022-10-09 10:42:11,231]\u001b[0m Trial 5 finished with value: 0.5309974771728969 and parameters: {'max_depth': 6, 'max_leaf_nodes': 324, 'n_estimators': 232}. Best is trial 0 with value: 0.5317711958343.\u001b[0m\n",
            "\u001b[32m[I 2022-10-09 10:44:32,742]\u001b[0m Trial 6 finished with value: 0.5281755857212178 and parameters: {'max_depth': 8, 'max_leaf_nodes': 214, 'n_estimators': 366}. Best is trial 0 with value: 0.5317711958343.\u001b[0m\n",
            "\u001b[32m[I 2022-10-09 10:47:13,513]\u001b[0m Trial 7 finished with value: 0.530075613653234 and parameters: {'max_depth': 6, 'max_leaf_nodes': 99, 'n_estimators': 427}. Best is trial 0 with value: 0.5317711958343.\u001b[0m\n",
            "\u001b[32m[I 2022-10-09 10:48:40,583]\u001b[0m Trial 8 finished with value: 0.5305806713417959 and parameters: {'max_depth': 9, 'max_leaf_nodes': 970, 'n_estimators': 181}. Best is trial 0 with value: 0.5317711958343.\u001b[0m\n",
            "\u001b[32m[I 2022-10-09 10:50:55,002]\u001b[0m Trial 9 finished with value: 0.5278687251692052 and parameters: {'max_depth': 4, 'max_leaf_nodes': 540, 'n_estimators': 407}. Best is trial 0 with value: 0.5317711958343.\u001b[0m\n"
          ]
        }
      ],
      "source": [
        "from sklearn.model_selection import cross_val_score\n",
        "def LGBM_objective(trial):\n",
        "    max_depth = trial.suggest_int('max_depth', 1, 10)\n",
        "    max_leaf_nodes = trial.suggest_int('max_leaf_nodes', 2, 1000)\n",
        "    n_estimators =  trial.suggest_int('n_estimators', 100, 500)\n",
        "   \n",
        "    model = LGBMClassifier(max_depth = max_depth, max_leaf_nodes = max_leaf_nodes,n_estimators = n_estimators,n_jobs=2,random_state=25)\n",
        "\n",
        "    \n",
        "    model.fit(X_train.drop(['application_id', 'loanapply_insert_time'],axis=1), y_train)\n",
        "    y_pred = model.predict(X_valid.drop(['application_id', 'loanapply_insert_time'],axis=1))    \n",
        "    score = f1_score(y_pred, y_valid)\n",
        "\n",
        "    return score\n",
        "    \n",
        "#Execute optuna and set hyperparameters\n",
        "LGMB_study = optuna.create_study(direction='maximize')\n",
        "LGMB_study.optimize(LGBM_objective, n_trials=10)\n",
        "\n",
        "#Create an instance with tuned hyperparameters\n",
        "optimized_LGMB = LGBMClassifier(max_depth = LGMB_study.best_params['max_depth'], max_leaf_nodes = LGMB_study.best_params['max_leaf_nodes'],\n",
        "                                      n_estimators = LGMB_study.best_params['n_estimators'],n_jobs=2,random_state=25)"
      ]
    },
    {
      "cell_type": "code",
      "execution_count": null,
      "metadata": {
        "colab": {
          "base_uri": "https://localhost:8080/"
        },
        "id": "uxX8E8TIyG8j",
        "outputId": "50f113ad-67ca-4e02-a8b0-7faad4ae5c45"
      },
      "outputs": [
        {
          "data": {
            "text/plain": [
              "LGBMClassifier(max_depth=9, max_leaf_nodes=327, n_estimators=125, n_jobs=2,\n",
              "               random_state=25)"
            ]
          },
          "execution_count": 21,
          "metadata": {},
          "output_type": "execute_result"
        }
      ],
      "source": [
        "optimized_LGMB.fit(X_train.drop(['application_id', 'loanapply_insert_time'],axis=1), y_train)"
      ]
    },
    {
      "cell_type": "code",
      "execution_count": null,
      "metadata": {
        "colab": {
          "base_uri": "https://localhost:8080/"
        },
        "id": "73c6r3Ev2VqH",
        "outputId": "7628bebf-645e-4edb-831a-2e2adddf3bc8"
      },
      "outputs": [
        {
          "name": "stdout",
          "output_type": "stream",
          "text": [
            "0.4406516507524592\n"
          ]
        }
      ],
      "source": [
        "pred=optimized_LGMB.predict(X_test.drop(['application_id', 'loanapply_insert_time'],axis=1))\n",
        "score_test=f1_score(pred, y_test)\n",
        "print(score_test)"
      ]
    },
    {
      "cell_type": "code",
      "execution_count": null,
      "metadata": {
        "colab": {
          "base_uri": "https://localhost:8080/"
        },
        "id": "te9nv8NSZrzO",
        "outputId": "998f8bfb-0293-43e3-d7a2-081500439372"
      },
      "outputs": [
        {
          "data": {
            "text/plain": [
              "['/content/drive/Shareddrives/빅콘테스트/혜림/최후/lgbm.pkl']"
            ]
          },
          "execution_count": 35,
          "metadata": {},
          "output_type": "execute_result"
        }
      ],
      "source": [
        "import joblib\n",
        "\n",
        "joblib.dump(optimized_LGMB,\"/content/drive/Shareddrives/빅콘테스트/혜림/최후/lgbm.pkl\")"
      ]
    },
    {
      "cell_type": "markdown",
      "metadata": {
        "id": "XHgPOQ0Thy-6"
      },
      "source": [
        "## test 예측"
      ]
    },
    {
      "cell_type": "code",
      "execution_count": null,
      "metadata": {
        "id": "9Z2lWbffjgqJ"
      },
      "outputs": [],
      "source": [
        "import joblib\n",
        "optimized_LGBM = joblib.load(\"/content/drive/Shareddrives/빅콘테스트/데이터분석분야_퓨처스부문_이달의사원_추가제출파일/추가제출파일/Raw 데이터/lgbm.pkl\")"
      ]
    },
    {
      "cell_type": "code",
      "execution_count": null,
      "metadata": {
        "colab": {
          "base_uri": "https://localhost:8080/"
        },
        "id": "-WpKXPZrh2jb",
        "outputId": "f8399503-2267-4a62-9cfe-ab388dee15b2"
      },
      "outputs": [
        {
          "output_type": "execute_result",
          "data": {
            "text/plain": [
              "array([0., 0., 0., ..., 0., 0., 0.])"
            ]
          },
          "metadata": {},
          "execution_count": 7
        }
      ],
      "source": [
        "pred=optimized_LGBM.predict(X_real_test.drop(['application_id', 'loanapply_insert_time'],axis=1))\n",
        "pred_prob = optimized_LGBM.predict_proba(X_real_test.drop(['application_id', 'loanapply_insert_time'],axis=1))   \n",
        "\n",
        "pred"
      ]
    },
    {
      "cell_type": "code",
      "source": [
        "pred_lgbm_0 =[]\n",
        "for i in range(len(test_fin)):\n",
        "    pred_lgbm_0.append(pred_prob[i][0])\n",
        "\n",
        "pred_lgbm_1 =[]\n",
        "for i in range(len(test_fin)):\n",
        "    pred_lgbm_1.append(pred_prob[i][1])"
      ],
      "metadata": {
        "id": "mzgJybzNnkuK"
      },
      "execution_count": null,
      "outputs": []
    },
    {
      "cell_type": "code",
      "source": [
        "prediction_df = pd.DataFrame(test_fin['application_id'], columns=['application_id'])\n",
        "prediction_df['loanapply_insert_time'] = test_fin['loanapply_insert_time']\n",
        "prediction_df['bank_id'] = test_fin['bank_id']\n",
        "prediction_df['product_id'] = test_fin['product_id']\n",
        "prediction_df['loan_limit'] = test_fin['loan_limit']\n",
        "prediction_df['loan_rate'] = test_fin['loan_rate']\n",
        "prediction_df['pred_lgb0'] = pred_lgbm_0\n",
        "prediction_df['pred_lgb1'] = pred_lgbm_1\n",
        "\n",
        "prediction_df"
      ],
      "metadata": {
        "id": "dH3tQPYA8sSg"
      },
      "execution_count": null,
      "outputs": []
    },
    {
      "cell_type": "code",
      "source": [
        "pred.sum()"
      ],
      "metadata": {
        "colab": {
          "base_uri": "https://localhost:8080/"
        },
        "id": "C2ymGNvl88Gb",
        "outputId": "e41e6188-0cb5-46d9-ec9b-64786677c61e"
      },
      "execution_count": null,
      "outputs": [
        {
          "output_type": "execute_result",
          "data": {
            "text/plain": [
              "343894.0"
            ]
          },
          "metadata": {},
          "execution_count": 10
        }
      ]
    },
    {
      "cell_type": "code",
      "source": [
        "prediction_df = prediction_df.sort_values(by=['application_id', 'loanapply_insert_time', 'bank_id', 'product_id', 'loan_limit']).reset_index(drop=True)\n",
        "prediction_df"
      ],
      "metadata": {
        "id": "KItu8vnmtdkm"
      },
      "execution_count": null,
      "outputs": []
    },
    {
      "cell_type": "markdown",
      "metadata": {
        "id": "Y6mcYBfmqpIq"
      },
      "source": [
        "# RF"
      ]
    },
    {
      "cell_type": "markdown",
      "metadata": {
        "id": "GQMAsqEOqsoa"
      },
      "source": [
        "## 추가 전처리"
      ]
    },
    {
      "cell_type": "code",
      "execution_count": null,
      "metadata": {
        "id": "sRvuYcnnqrA1"
      },
      "outputs": [],
      "source": [
        "# 변수 select first_bank, product_type 일단 빼기\n",
        "train.drop(labels=[ 'employment_type_계약직', 'income_type_EARNEDINCOME2', 'income_type_PRIVATEBUSINESS', 'purpose_사업자금', 'purpose_기타', 'income_type_FREELANCER', \n",
        "                 'income_type_OTHERINCOME', 'purpose_전월세보증금', 'employment_type_일용직', 'income_type_PRACTITIONER', 'purpose_투자', 'purpose_주택구입', 'foreign', \n",
        "                 'purpose_자동차구입', 'personal_rehabilitation_type', 'houseown_type_배우자'],axis=1,inplace=True) \n",
        "val.drop(labels=[ 'employment_type_계약직', 'income_type_EARNEDINCOME2', 'income_type_PRIVATEBUSINESS', 'purpose_사업자금', 'purpose_기타', 'income_type_FREELANCER', \n",
        "                 'income_type_OTHERINCOME', 'purpose_전월세보증금', 'employment_type_일용직', 'income_type_PRACTITIONER', 'purpose_투자', 'purpose_주택구입', 'foreign', \n",
        "                 'purpose_자동차구입', 'personal_rehabilitation_type', 'houseown_type_배우자'],axis=1,inplace=True) \n",
        "real_test.drop(labels=[ 'employment_type_계약직', 'income_type_EARNEDINCOME2', 'income_type_PRIVATEBUSINESS', 'purpose_사업자금', 'purpose_기타', 'income_type_FREELANCER', \n",
        "                   'income_type_OTHERINCOME', 'purpose_전월세보증금', 'employment_type_일용직', 'income_type_PRACTITIONER', 'purpose_투자', 'purpose_주택구입', 'foreign', \n",
        "                   'purpose_자동차구입', 'personal_rehabilitation_type', 'houseown_type_배우자'],axis=1,inplace=True) "
      ]
    },
    {
      "cell_type": "code",
      "execution_count": null,
      "metadata": {
        "id": "KJa8qd6IsIb0"
      },
      "outputs": [],
      "source": [
        "target = 'is_applied'\n",
        "X_train, X_valid, y_train, y_valid = train.drop(target, axis=1), val.drop(target, axis=1), train[target], val[target]\n",
        "X_real_test = real_test.drop(target, axis=1)"
      ]
    },
    {
      "cell_type": "markdown",
      "metadata": {
        "id": "dQP6S409sTVt"
      },
      "source": [
        "## 모델링"
      ]
    },
    {
      "cell_type": "code",
      "execution_count": null,
      "metadata": {
        "colab": {
          "base_uri": "https://localhost:8080/"
        },
        "id": "57BZ05M0sU_C",
        "outputId": "bfb824e5-b5b3-4b62-fd02-cba4fe090d85"
      },
      "outputs": [
        {
          "name": "stdout",
          "output_type": "stream",
          "text": [
            "F1 Score: 0.502221\n"
          ]
        }
      ],
      "source": [
        "from sklearn.ensemble import ExtraTreesClassifier, RandomForestClassifier\n",
        "model =  RandomForestClassifier(n_estimators=100, random_state=42, min_samples_leaf = 5)\n",
        "model.fit(X_train.drop(['application_id','loanapply_insert_time'], axis=1), y_train)  \n",
        "model_pred = model.predict(X_valid.drop(['application_id','loanapply_insert_time'], axis=1))\n",
        "print(f'F1 Score: {f1_score(y_valid, model_pred):.6f}')"
      ]
    },
    {
      "cell_type": "code",
      "execution_count": null,
      "metadata": {
        "id": "CWZi4XoluK_N"
      },
      "outputs": [],
      "source": [
        "import joblib\n",
        "\n",
        "joblib.dump(model,\"/RF.pkl\")"
      ]
    },
    {
      "cell_type": "code",
      "execution_count": null,
      "metadata": {
        "colab": {
          "base_uri": "https://localhost:8080/"
        },
        "id": "DjA-KHXltuLT",
        "outputId": "30b06f82-9453-492c-9e92-d98c4ee65dba"
      },
      "outputs": [
        {
          "name": "stdout",
          "output_type": "stream",
          "text": [
            "F1 Score: 0.433371\n"
          ]
        }
      ],
      "source": [
        "test_pred = model.predict(X_test.drop(['application_id','loanapply_insert_time'], axis=1))\n",
        "test_pred_prob = model.predict_proba(X_test.drop(['application_id','loanapply_insert_time'], axis=1))\n",
        "print(f'F1 Score: {f1_score(y_test, test_pred):.6f}')"
      ]
    },
    {
      "cell_type": "code",
      "execution_count": null,
      "metadata": {
        "colab": {
          "base_uri": "https://localhost:8080/"
        },
        "id": "YjB7qv21uiu3",
        "outputId": "d32ec0c1-93b1-4ba2-c14e-ec4245644c22"
      },
      "outputs": [
        {
          "data": {
            "text/plain": [
              "array([1., 1., 0., ..., 1., 1., 1.])"
            ]
          },
          "execution_count": 36,
          "metadata": {},
          "output_type": "execute_result"
        }
      ],
      "source": [
        "test_pred"
      ]
    },
    {
      "cell_type": "markdown",
      "metadata": {
        "id": "IbLgIG_cxQ0g"
      },
      "source": [
        "# test 예측"
      ]
    },
    {
      "cell_type": "code",
      "execution_count": null,
      "metadata": {
        "id": "biu4wiEayv8d"
      },
      "outputs": [],
      "source": [
        "import joblib\n",
        "model = joblib.load(\"/content/drive/Shareddrives/빅콘테스트/데이터분석분야_퓨처스부문_이달의사원_추가제출파일/추가제출파일/Raw 데이터/RF.pkl\")"
      ]
    },
    {
      "cell_type": "code",
      "execution_count": null,
      "metadata": {
        "colab": {
          "base_uri": "https://localhost:8080/"
        },
        "id": "hIyOZvP3xWTf",
        "outputId": "b8eb8992-cdf9-459f-820b-f7f371ec833b"
      },
      "outputs": [
        {
          "output_type": "execute_result",
          "data": {
            "text/plain": [
              "array([0., 0., 0., ..., 0., 0., 0.])"
            ]
          },
          "metadata": {},
          "execution_count": 10
        }
      ],
      "source": [
        "pred=model.predict(X_real_test.drop(['application_id','loanapply_insert_time'],axis=1))\n",
        "pred_prob = model.predict_proba(X_real_test.drop(['application_id', 'loanapply_insert_time'],axis=1))   \n",
        "pred"
      ]
    },
    {
      "cell_type": "code",
      "source": [
        "pred.sum()"
      ],
      "metadata": {
        "colab": {
          "base_uri": "https://localhost:8080/"
        },
        "id": "L-YcpwZ1_L2a",
        "outputId": "e55de752-8077-4367-8b5b-9afbf0e3e344"
      },
      "execution_count": null,
      "outputs": [
        {
          "output_type": "execute_result",
          "data": {
            "text/plain": [
              "226647.0"
            ]
          },
          "metadata": {},
          "execution_count": 11
        }
      ]
    },
    {
      "cell_type": "code",
      "source": [
        "pred_rf_0 =[]\n",
        "for i in range(len(test_fin)):\n",
        "    pred_rf_0.append(pred_prob[i][0])\n",
        "\n",
        "pred_rf_1 =[]\n",
        "for i in range(len(test_fin)):\n",
        "    pred_rf_1.append(pred_prob[i][1])"
      ],
      "metadata": {
        "id": "oW1PkFyoEd9w"
      },
      "execution_count": null,
      "outputs": []
    },
    {
      "cell_type": "code",
      "source": [
        "prediction_df = pd.DataFrame(test_fin['application_id'], columns=['application_id'])\n",
        "prediction_df['loanapply_insert_time'] = test_fin['loanapply_insert_time']\n",
        "prediction_df['bank_id'] = test_fin['bank_id']\n",
        "prediction_df['product_id'] = test_fin['product_id']\n",
        "prediction_df['loan_limit'] = test_fin['loan_limit']\n",
        "prediction_df['loan_rate'] = test_fin['loan_rate']\n",
        "prediction_df['pred_rf0'] = pred_rf_0\n",
        "prediction_df['pred_rf1'] = pred_rf_1\n",
        "\n",
        "prediction_df"
      ],
      "metadata": {
        "id": "2Hxo2nih9LQh"
      },
      "execution_count": null,
      "outputs": []
    },
    {
      "cell_type": "code",
      "source": [
        "prediction_df = prediction_df.sort_values(by=['application_id', 'loanapply_insert_time', 'bank_id', 'product_id', 'loan_limit']).reset_index(drop=True)\n",
        "prediction_df"
      ],
      "metadata": {
        "id": "4lhLcdNm9LQi"
      },
      "execution_count": null,
      "outputs": []
    },
    {
      "cell_type": "code",
      "source": [
        "prediction_df[['application_id', 'product_id','pred_rf0', 'pred_rf1']].to_csv(\"//pred_rf.csv\", index=False)  "
      ],
      "metadata": {
        "id": "9GCGiIJv9LQi"
      },
      "execution_count": null,
      "outputs": []
    },
    {
      "cell_type": "markdown",
      "metadata": {
        "id": "_n7E25b1quvA"
      },
      "source": [
        "# 앙상블"
      ]
    },
    {
      "cell_type": "code",
      "execution_count": null,
      "metadata": {
        "id": "TJj4-KyoqvpA"
      },
      "outputs": [],
      "source": [
        "pred_lgbm = pd.read_csv(\"/pred_lgbm.csv\")"
      ]
    },
    {
      "cell_type": "code",
      "source": [
        "pred_rf = pd.read_csv(\"/pred_rf.csv\")"
      ],
      "metadata": {
        "id": "-ema1Fsg_ZKR"
      },
      "execution_count": null,
      "outputs": []
    },
    {
      "cell_type": "code",
      "source": [
        "pred_lgbm"
      ],
      "metadata": {
        "colab": {
          "base_uri": "https://localhost:8080/",
          "height": 424
        },
        "id": "yapybk7G_gCq",
        "outputId": "f83df666-6e8e-447d-d1c0-4a60b7b2c563"
      },
      "execution_count": null,
      "outputs": [
        {
          "output_type": "execute_result",
          "data": {
            "text/plain": [
              "         application_id  product_id  pred_lgb0  pred_lgb1\n",
              "0                     4       191.0   0.260224   0.739776\n",
              "1                     4       220.0   0.348797   0.651203\n",
              "2                     8        85.0   0.482609   0.517391\n",
              "3                     8       114.0   0.514906   0.485094\n",
              "4                     8        29.0   0.280703   0.719297\n",
              "...                 ...         ...        ...        ...\n",
              "3257234         2167778       258.0   0.282515   0.717485\n",
              "3257235         2167791        29.0   0.154362   0.845638\n",
              "3257236         2167822        65.0   0.371427   0.628573\n",
              "3257237         2167822       149.0   0.402592   0.597408\n",
              "3257238         2167822       157.0   0.292419   0.707581\n",
              "\n",
              "[3257239 rows x 4 columns]"
            ],
            "text/html": [
              "\n",
              "  <div id=\"df-453c9540-a7c7-485a-b2d2-324d14846b9d\">\n",
              "    <div class=\"colab-df-container\">\n",
              "      <div>\n",
              "<style scoped>\n",
              "    .dataframe tbody tr th:only-of-type {\n",
              "        vertical-align: middle;\n",
              "    }\n",
              "\n",
              "    .dataframe tbody tr th {\n",
              "        vertical-align: top;\n",
              "    }\n",
              "\n",
              "    .dataframe thead th {\n",
              "        text-align: right;\n",
              "    }\n",
              "</style>\n",
              "<table border=\"1\" class=\"dataframe\">\n",
              "  <thead>\n",
              "    <tr style=\"text-align: right;\">\n",
              "      <th></th>\n",
              "      <th>application_id</th>\n",
              "      <th>product_id</th>\n",
              "      <th>pred_lgb0</th>\n",
              "      <th>pred_lgb1</th>\n",
              "    </tr>\n",
              "  </thead>\n",
              "  <tbody>\n",
              "    <tr>\n",
              "      <th>0</th>\n",
              "      <td>4</td>\n",
              "      <td>191.0</td>\n",
              "      <td>0.260224</td>\n",
              "      <td>0.739776</td>\n",
              "    </tr>\n",
              "    <tr>\n",
              "      <th>1</th>\n",
              "      <td>4</td>\n",
              "      <td>220.0</td>\n",
              "      <td>0.348797</td>\n",
              "      <td>0.651203</td>\n",
              "    </tr>\n",
              "    <tr>\n",
              "      <th>2</th>\n",
              "      <td>8</td>\n",
              "      <td>85.0</td>\n",
              "      <td>0.482609</td>\n",
              "      <td>0.517391</td>\n",
              "    </tr>\n",
              "    <tr>\n",
              "      <th>3</th>\n",
              "      <td>8</td>\n",
              "      <td>114.0</td>\n",
              "      <td>0.514906</td>\n",
              "      <td>0.485094</td>\n",
              "    </tr>\n",
              "    <tr>\n",
              "      <th>4</th>\n",
              "      <td>8</td>\n",
              "      <td>29.0</td>\n",
              "      <td>0.280703</td>\n",
              "      <td>0.719297</td>\n",
              "    </tr>\n",
              "    <tr>\n",
              "      <th>...</th>\n",
              "      <td>...</td>\n",
              "      <td>...</td>\n",
              "      <td>...</td>\n",
              "      <td>...</td>\n",
              "    </tr>\n",
              "    <tr>\n",
              "      <th>3257234</th>\n",
              "      <td>2167778</td>\n",
              "      <td>258.0</td>\n",
              "      <td>0.282515</td>\n",
              "      <td>0.717485</td>\n",
              "    </tr>\n",
              "    <tr>\n",
              "      <th>3257235</th>\n",
              "      <td>2167791</td>\n",
              "      <td>29.0</td>\n",
              "      <td>0.154362</td>\n",
              "      <td>0.845638</td>\n",
              "    </tr>\n",
              "    <tr>\n",
              "      <th>3257236</th>\n",
              "      <td>2167822</td>\n",
              "      <td>65.0</td>\n",
              "      <td>0.371427</td>\n",
              "      <td>0.628573</td>\n",
              "    </tr>\n",
              "    <tr>\n",
              "      <th>3257237</th>\n",
              "      <td>2167822</td>\n",
              "      <td>149.0</td>\n",
              "      <td>0.402592</td>\n",
              "      <td>0.597408</td>\n",
              "    </tr>\n",
              "    <tr>\n",
              "      <th>3257238</th>\n",
              "      <td>2167822</td>\n",
              "      <td>157.0</td>\n",
              "      <td>0.292419</td>\n",
              "      <td>0.707581</td>\n",
              "    </tr>\n",
              "  </tbody>\n",
              "</table>\n",
              "<p>3257239 rows × 4 columns</p>\n",
              "</div>\n",
              "      <button class=\"colab-df-convert\" onclick=\"convertToInteractive('df-453c9540-a7c7-485a-b2d2-324d14846b9d')\"\n",
              "              title=\"Convert this dataframe to an interactive table.\"\n",
              "              style=\"display:none;\">\n",
              "        \n",
              "  <svg xmlns=\"http://www.w3.org/2000/svg\" height=\"24px\"viewBox=\"0 0 24 24\"\n",
              "       width=\"24px\">\n",
              "    <path d=\"M0 0h24v24H0V0z\" fill=\"none\"/>\n",
              "    <path d=\"M18.56 5.44l.94 2.06.94-2.06 2.06-.94-2.06-.94-.94-2.06-.94 2.06-2.06.94zm-11 1L8.5 8.5l.94-2.06 2.06-.94-2.06-.94L8.5 2.5l-.94 2.06-2.06.94zm10 10l.94 2.06.94-2.06 2.06-.94-2.06-.94-.94-2.06-.94 2.06-2.06.94z\"/><path d=\"M17.41 7.96l-1.37-1.37c-.4-.4-.92-.59-1.43-.59-.52 0-1.04.2-1.43.59L10.3 9.45l-7.72 7.72c-.78.78-.78 2.05 0 2.83L4 21.41c.39.39.9.59 1.41.59.51 0 1.02-.2 1.41-.59l7.78-7.78 2.81-2.81c.8-.78.8-2.07 0-2.86zM5.41 20L4 18.59l7.72-7.72 1.47 1.35L5.41 20z\"/>\n",
              "  </svg>\n",
              "      </button>\n",
              "      \n",
              "  <style>\n",
              "    .colab-df-container {\n",
              "      display:flex;\n",
              "      flex-wrap:wrap;\n",
              "      gap: 12px;\n",
              "    }\n",
              "\n",
              "    .colab-df-convert {\n",
              "      background-color: #E8F0FE;\n",
              "      border: none;\n",
              "      border-radius: 50%;\n",
              "      cursor: pointer;\n",
              "      display: none;\n",
              "      fill: #1967D2;\n",
              "      height: 32px;\n",
              "      padding: 0 0 0 0;\n",
              "      width: 32px;\n",
              "    }\n",
              "\n",
              "    .colab-df-convert:hover {\n",
              "      background-color: #E2EBFA;\n",
              "      box-shadow: 0px 1px 2px rgba(60, 64, 67, 0.3), 0px 1px 3px 1px rgba(60, 64, 67, 0.15);\n",
              "      fill: #174EA6;\n",
              "    }\n",
              "\n",
              "    [theme=dark] .colab-df-convert {\n",
              "      background-color: #3B4455;\n",
              "      fill: #D2E3FC;\n",
              "    }\n",
              "\n",
              "    [theme=dark] .colab-df-convert:hover {\n",
              "      background-color: #434B5C;\n",
              "      box-shadow: 0px 1px 3px 1px rgba(0, 0, 0, 0.15);\n",
              "      filter: drop-shadow(0px 1px 2px rgba(0, 0, 0, 0.3));\n",
              "      fill: #FFFFFF;\n",
              "    }\n",
              "  </style>\n",
              "\n",
              "      <script>\n",
              "        const buttonEl =\n",
              "          document.querySelector('#df-453c9540-a7c7-485a-b2d2-324d14846b9d button.colab-df-convert');\n",
              "        buttonEl.style.display =\n",
              "          google.colab.kernel.accessAllowed ? 'block' : 'none';\n",
              "\n",
              "        async function convertToInteractive(key) {\n",
              "          const element = document.querySelector('#df-453c9540-a7c7-485a-b2d2-324d14846b9d');\n",
              "          const dataTable =\n",
              "            await google.colab.kernel.invokeFunction('convertToInteractive',\n",
              "                                                     [key], {});\n",
              "          if (!dataTable) return;\n",
              "\n",
              "          const docLinkHtml = 'Like what you see? Visit the ' +\n",
              "            '<a target=\"_blank\" href=https://colab.research.google.com/notebooks/data_table.ipynb>data table notebook</a>'\n",
              "            + ' to learn more about interactive tables.';\n",
              "          element.innerHTML = '';\n",
              "          dataTable['output_type'] = 'display_data';\n",
              "          await google.colab.output.renderOutput(dataTable, element);\n",
              "          const docLink = document.createElement('div');\n",
              "          docLink.innerHTML = docLinkHtml;\n",
              "          element.appendChild(docLink);\n",
              "        }\n",
              "      </script>\n",
              "    </div>\n",
              "  </div>\n",
              "  "
            ]
          },
          "metadata": {},
          "execution_count": 19
        }
      ]
    },
    {
      "cell_type": "code",
      "source": [
        "pred_rf"
      ],
      "metadata": {
        "colab": {
          "base_uri": "https://localhost:8080/",
          "height": 424
        },
        "id": "GZ3OSwDC_gv1",
        "outputId": "1931118d-810d-4610-98b4-a3524c1202e1"
      },
      "execution_count": null,
      "outputs": [
        {
          "output_type": "execute_result",
          "data": {
            "text/plain": [
              "         application_id  product_id  pred_rf0  pred_rf1\n",
              "0                     4       191.0  0.360803  0.639197\n",
              "1                     4       220.0  0.456374  0.543626\n",
              "2                     8        85.0  0.422788  0.577212\n",
              "3                     8       114.0  0.428745  0.571255\n",
              "4                     8        29.0  0.461496  0.538504\n",
              "...                 ...         ...       ...       ...\n",
              "3257234         2167778       258.0  0.443795  0.556205\n",
              "3257235         2167791        29.0  0.343151  0.656849\n",
              "3257236         2167822        65.0  0.384633  0.615367\n",
              "3257237         2167822       149.0  0.432433  0.567567\n",
              "3257238         2167822       157.0  0.412131  0.587869\n",
              "\n",
              "[3257239 rows x 4 columns]"
            ],
            "text/html": [
              "\n",
              "  <div id=\"df-4a50b792-0db5-4421-b5a1-35a843aaa790\">\n",
              "    <div class=\"colab-df-container\">\n",
              "      <div>\n",
              "<style scoped>\n",
              "    .dataframe tbody tr th:only-of-type {\n",
              "        vertical-align: middle;\n",
              "    }\n",
              "\n",
              "    .dataframe tbody tr th {\n",
              "        vertical-align: top;\n",
              "    }\n",
              "\n",
              "    .dataframe thead th {\n",
              "        text-align: right;\n",
              "    }\n",
              "</style>\n",
              "<table border=\"1\" class=\"dataframe\">\n",
              "  <thead>\n",
              "    <tr style=\"text-align: right;\">\n",
              "      <th></th>\n",
              "      <th>application_id</th>\n",
              "      <th>product_id</th>\n",
              "      <th>pred_rf0</th>\n",
              "      <th>pred_rf1</th>\n",
              "    </tr>\n",
              "  </thead>\n",
              "  <tbody>\n",
              "    <tr>\n",
              "      <th>0</th>\n",
              "      <td>4</td>\n",
              "      <td>191.0</td>\n",
              "      <td>0.360803</td>\n",
              "      <td>0.639197</td>\n",
              "    </tr>\n",
              "    <tr>\n",
              "      <th>1</th>\n",
              "      <td>4</td>\n",
              "      <td>220.0</td>\n",
              "      <td>0.456374</td>\n",
              "      <td>0.543626</td>\n",
              "    </tr>\n",
              "    <tr>\n",
              "      <th>2</th>\n",
              "      <td>8</td>\n",
              "      <td>85.0</td>\n",
              "      <td>0.422788</td>\n",
              "      <td>0.577212</td>\n",
              "    </tr>\n",
              "    <tr>\n",
              "      <th>3</th>\n",
              "      <td>8</td>\n",
              "      <td>114.0</td>\n",
              "      <td>0.428745</td>\n",
              "      <td>0.571255</td>\n",
              "    </tr>\n",
              "    <tr>\n",
              "      <th>4</th>\n",
              "      <td>8</td>\n",
              "      <td>29.0</td>\n",
              "      <td>0.461496</td>\n",
              "      <td>0.538504</td>\n",
              "    </tr>\n",
              "    <tr>\n",
              "      <th>...</th>\n",
              "      <td>...</td>\n",
              "      <td>...</td>\n",
              "      <td>...</td>\n",
              "      <td>...</td>\n",
              "    </tr>\n",
              "    <tr>\n",
              "      <th>3257234</th>\n",
              "      <td>2167778</td>\n",
              "      <td>258.0</td>\n",
              "      <td>0.443795</td>\n",
              "      <td>0.556205</td>\n",
              "    </tr>\n",
              "    <tr>\n",
              "      <th>3257235</th>\n",
              "      <td>2167791</td>\n",
              "      <td>29.0</td>\n",
              "      <td>0.343151</td>\n",
              "      <td>0.656849</td>\n",
              "    </tr>\n",
              "    <tr>\n",
              "      <th>3257236</th>\n",
              "      <td>2167822</td>\n",
              "      <td>65.0</td>\n",
              "      <td>0.384633</td>\n",
              "      <td>0.615367</td>\n",
              "    </tr>\n",
              "    <tr>\n",
              "      <th>3257237</th>\n",
              "      <td>2167822</td>\n",
              "      <td>149.0</td>\n",
              "      <td>0.432433</td>\n",
              "      <td>0.567567</td>\n",
              "    </tr>\n",
              "    <tr>\n",
              "      <th>3257238</th>\n",
              "      <td>2167822</td>\n",
              "      <td>157.0</td>\n",
              "      <td>0.412131</td>\n",
              "      <td>0.587869</td>\n",
              "    </tr>\n",
              "  </tbody>\n",
              "</table>\n",
              "<p>3257239 rows × 4 columns</p>\n",
              "</div>\n",
              "      <button class=\"colab-df-convert\" onclick=\"convertToInteractive('df-4a50b792-0db5-4421-b5a1-35a843aaa790')\"\n",
              "              title=\"Convert this dataframe to an interactive table.\"\n",
              "              style=\"display:none;\">\n",
              "        \n",
              "  <svg xmlns=\"http://www.w3.org/2000/svg\" height=\"24px\"viewBox=\"0 0 24 24\"\n",
              "       width=\"24px\">\n",
              "    <path d=\"M0 0h24v24H0V0z\" fill=\"none\"/>\n",
              "    <path d=\"M18.56 5.44l.94 2.06.94-2.06 2.06-.94-2.06-.94-.94-2.06-.94 2.06-2.06.94zm-11 1L8.5 8.5l.94-2.06 2.06-.94-2.06-.94L8.5 2.5l-.94 2.06-2.06.94zm10 10l.94 2.06.94-2.06 2.06-.94-2.06-.94-.94-2.06-.94 2.06-2.06.94z\"/><path d=\"M17.41 7.96l-1.37-1.37c-.4-.4-.92-.59-1.43-.59-.52 0-1.04.2-1.43.59L10.3 9.45l-7.72 7.72c-.78.78-.78 2.05 0 2.83L4 21.41c.39.39.9.59 1.41.59.51 0 1.02-.2 1.41-.59l7.78-7.78 2.81-2.81c.8-.78.8-2.07 0-2.86zM5.41 20L4 18.59l7.72-7.72 1.47 1.35L5.41 20z\"/>\n",
              "  </svg>\n",
              "      </button>\n",
              "      \n",
              "  <style>\n",
              "    .colab-df-container {\n",
              "      display:flex;\n",
              "      flex-wrap:wrap;\n",
              "      gap: 12px;\n",
              "    }\n",
              "\n",
              "    .colab-df-convert {\n",
              "      background-color: #E8F0FE;\n",
              "      border: none;\n",
              "      border-radius: 50%;\n",
              "      cursor: pointer;\n",
              "      display: none;\n",
              "      fill: #1967D2;\n",
              "      height: 32px;\n",
              "      padding: 0 0 0 0;\n",
              "      width: 32px;\n",
              "    }\n",
              "\n",
              "    .colab-df-convert:hover {\n",
              "      background-color: #E2EBFA;\n",
              "      box-shadow: 0px 1px 2px rgba(60, 64, 67, 0.3), 0px 1px 3px 1px rgba(60, 64, 67, 0.15);\n",
              "      fill: #174EA6;\n",
              "    }\n",
              "\n",
              "    [theme=dark] .colab-df-convert {\n",
              "      background-color: #3B4455;\n",
              "      fill: #D2E3FC;\n",
              "    }\n",
              "\n",
              "    [theme=dark] .colab-df-convert:hover {\n",
              "      background-color: #434B5C;\n",
              "      box-shadow: 0px 1px 3px 1px rgba(0, 0, 0, 0.15);\n",
              "      filter: drop-shadow(0px 1px 2px rgba(0, 0, 0, 0.3));\n",
              "      fill: #FFFFFF;\n",
              "    }\n",
              "  </style>\n",
              "\n",
              "      <script>\n",
              "        const buttonEl =\n",
              "          document.querySelector('#df-4a50b792-0db5-4421-b5a1-35a843aaa790 button.colab-df-convert');\n",
              "        buttonEl.style.display =\n",
              "          google.colab.kernel.accessAllowed ? 'block' : 'none';\n",
              "\n",
              "        async function convertToInteractive(key) {\n",
              "          const element = document.querySelector('#df-4a50b792-0db5-4421-b5a1-35a843aaa790');\n",
              "          const dataTable =\n",
              "            await google.colab.kernel.invokeFunction('convertToInteractive',\n",
              "                                                     [key], {});\n",
              "          if (!dataTable) return;\n",
              "\n",
              "          const docLinkHtml = 'Like what you see? Visit the ' +\n",
              "            '<a target=\"_blank\" href=https://colab.research.google.com/notebooks/data_table.ipynb>data table notebook</a>'\n",
              "            + ' to learn more about interactive tables.';\n",
              "          element.innerHTML = '';\n",
              "          dataTable['output_type'] = 'display_data';\n",
              "          await google.colab.output.renderOutput(dataTable, element);\n",
              "          const docLink = document.createElement('div');\n",
              "          docLink.innerHTML = docLinkHtml;\n",
              "          element.appendChild(docLink);\n",
              "        }\n",
              "      </script>\n",
              "    </div>\n",
              "  </div>\n",
              "  "
            ]
          },
          "metadata": {},
          "execution_count": 20
        }
      ]
    },
    {
      "cell_type": "code",
      "execution_count": null,
      "metadata": {
        "id": "aexkErTM7UBB"
      },
      "outputs": [],
      "source": [
        "pred_lgbm['pred_rf0'] = pred_rf['pred_rf0']\n",
        "pred_lgbm['pred_rf1'] = pred_rf['pred_rf1']"
      ]
    },
    {
      "cell_type": "code",
      "execution_count": null,
      "metadata": {
        "id": "dzy_wcOw7Vwi"
      },
      "outputs": [],
      "source": [
        "pred_lgbm['fin_0'] = pred_lgbm['pred_lgb0']*0.6+pred_lgbm['pred_rf0']*0.4\n",
        "pred_lgbm['fin_1'] = pred_lgbm['pred_lgb1']*0.6+pred_lgbm['pred_rf1']*0.4"
      ]
    },
    {
      "cell_type": "code",
      "source": [
        "pred_lgbm"
      ],
      "metadata": {
        "colab": {
          "base_uri": "https://localhost:8080/",
          "height": 424
        },
        "id": "U7zQOmFvGym4",
        "outputId": "0ed00463-3faa-41f3-b7c7-9871234183c8"
      },
      "execution_count": null,
      "outputs": [
        {
          "output_type": "execute_result",
          "data": {
            "text/plain": [
              "         application_id  product_id  pred_lgb0  pred_lgb1  pred_rf0  pred_rf1  \\\n",
              "0                     4       191.0   0.260224   0.739776  0.360803  0.639197   \n",
              "1                     4       220.0   0.348797   0.651203  0.456374  0.543626   \n",
              "2                     8        85.0   0.482609   0.517391  0.422788  0.577212   \n",
              "3                     8       114.0   0.514906   0.485094  0.428745  0.571255   \n",
              "4                     8        29.0   0.280703   0.719297  0.461496  0.538504   \n",
              "...                 ...         ...        ...        ...       ...       ...   \n",
              "3257234         2167778       258.0   0.282515   0.717485  0.443795  0.556205   \n",
              "3257235         2167791        29.0   0.154362   0.845638  0.343151  0.656849   \n",
              "3257236         2167822        65.0   0.371427   0.628573  0.384633  0.615367   \n",
              "3257237         2167822       149.0   0.402592   0.597408  0.432433  0.567567   \n",
              "3257238         2167822       157.0   0.292419   0.707581  0.412131  0.587869   \n",
              "\n",
              "            fin_0     fin_1  class  \n",
              "0        0.300455  0.699545      1  \n",
              "1        0.391828  0.608172      1  \n",
              "2        0.458680  0.541320      1  \n",
              "3        0.480441  0.519559      1  \n",
              "4        0.353020  0.646980      1  \n",
              "...           ...       ...    ...  \n",
              "3257234  0.347027  0.652973      1  \n",
              "3257235  0.229878  0.770122      1  \n",
              "3257236  0.376710  0.623290      1  \n",
              "3257237  0.414529  0.585471      1  \n",
              "3257238  0.340304  0.659696      1  \n",
              "\n",
              "[3257239 rows x 9 columns]"
            ],
            "text/html": [
              "\n",
              "  <div id=\"df-5960f600-12f7-4d1c-9fae-8f88ffb98bea\">\n",
              "    <div class=\"colab-df-container\">\n",
              "      <div>\n",
              "<style scoped>\n",
              "    .dataframe tbody tr th:only-of-type {\n",
              "        vertical-align: middle;\n",
              "    }\n",
              "\n",
              "    .dataframe tbody tr th {\n",
              "        vertical-align: top;\n",
              "    }\n",
              "\n",
              "    .dataframe thead th {\n",
              "        text-align: right;\n",
              "    }\n",
              "</style>\n",
              "<table border=\"1\" class=\"dataframe\">\n",
              "  <thead>\n",
              "    <tr style=\"text-align: right;\">\n",
              "      <th></th>\n",
              "      <th>application_id</th>\n",
              "      <th>product_id</th>\n",
              "      <th>pred_lgb0</th>\n",
              "      <th>pred_lgb1</th>\n",
              "      <th>pred_rf0</th>\n",
              "      <th>pred_rf1</th>\n",
              "      <th>fin_0</th>\n",
              "      <th>fin_1</th>\n",
              "      <th>class</th>\n",
              "    </tr>\n",
              "  </thead>\n",
              "  <tbody>\n",
              "    <tr>\n",
              "      <th>0</th>\n",
              "      <td>4</td>\n",
              "      <td>191.0</td>\n",
              "      <td>0.260224</td>\n",
              "      <td>0.739776</td>\n",
              "      <td>0.360803</td>\n",
              "      <td>0.639197</td>\n",
              "      <td>0.300455</td>\n",
              "      <td>0.699545</td>\n",
              "      <td>1</td>\n",
              "    </tr>\n",
              "    <tr>\n",
              "      <th>1</th>\n",
              "      <td>4</td>\n",
              "      <td>220.0</td>\n",
              "      <td>0.348797</td>\n",
              "      <td>0.651203</td>\n",
              "      <td>0.456374</td>\n",
              "      <td>0.543626</td>\n",
              "      <td>0.391828</td>\n",
              "      <td>0.608172</td>\n",
              "      <td>1</td>\n",
              "    </tr>\n",
              "    <tr>\n",
              "      <th>2</th>\n",
              "      <td>8</td>\n",
              "      <td>85.0</td>\n",
              "      <td>0.482609</td>\n",
              "      <td>0.517391</td>\n",
              "      <td>0.422788</td>\n",
              "      <td>0.577212</td>\n",
              "      <td>0.458680</td>\n",
              "      <td>0.541320</td>\n",
              "      <td>1</td>\n",
              "    </tr>\n",
              "    <tr>\n",
              "      <th>3</th>\n",
              "      <td>8</td>\n",
              "      <td>114.0</td>\n",
              "      <td>0.514906</td>\n",
              "      <td>0.485094</td>\n",
              "      <td>0.428745</td>\n",
              "      <td>0.571255</td>\n",
              "      <td>0.480441</td>\n",
              "      <td>0.519559</td>\n",
              "      <td>1</td>\n",
              "    </tr>\n",
              "    <tr>\n",
              "      <th>4</th>\n",
              "      <td>8</td>\n",
              "      <td>29.0</td>\n",
              "      <td>0.280703</td>\n",
              "      <td>0.719297</td>\n",
              "      <td>0.461496</td>\n",
              "      <td>0.538504</td>\n",
              "      <td>0.353020</td>\n",
              "      <td>0.646980</td>\n",
              "      <td>1</td>\n",
              "    </tr>\n",
              "    <tr>\n",
              "      <th>...</th>\n",
              "      <td>...</td>\n",
              "      <td>...</td>\n",
              "      <td>...</td>\n",
              "      <td>...</td>\n",
              "      <td>...</td>\n",
              "      <td>...</td>\n",
              "      <td>...</td>\n",
              "      <td>...</td>\n",
              "      <td>...</td>\n",
              "    </tr>\n",
              "    <tr>\n",
              "      <th>3257234</th>\n",
              "      <td>2167778</td>\n",
              "      <td>258.0</td>\n",
              "      <td>0.282515</td>\n",
              "      <td>0.717485</td>\n",
              "      <td>0.443795</td>\n",
              "      <td>0.556205</td>\n",
              "      <td>0.347027</td>\n",
              "      <td>0.652973</td>\n",
              "      <td>1</td>\n",
              "    </tr>\n",
              "    <tr>\n",
              "      <th>3257235</th>\n",
              "      <td>2167791</td>\n",
              "      <td>29.0</td>\n",
              "      <td>0.154362</td>\n",
              "      <td>0.845638</td>\n",
              "      <td>0.343151</td>\n",
              "      <td>0.656849</td>\n",
              "      <td>0.229878</td>\n",
              "      <td>0.770122</td>\n",
              "      <td>1</td>\n",
              "    </tr>\n",
              "    <tr>\n",
              "      <th>3257236</th>\n",
              "      <td>2167822</td>\n",
              "      <td>65.0</td>\n",
              "      <td>0.371427</td>\n",
              "      <td>0.628573</td>\n",
              "      <td>0.384633</td>\n",
              "      <td>0.615367</td>\n",
              "      <td>0.376710</td>\n",
              "      <td>0.623290</td>\n",
              "      <td>1</td>\n",
              "    </tr>\n",
              "    <tr>\n",
              "      <th>3257237</th>\n",
              "      <td>2167822</td>\n",
              "      <td>149.0</td>\n",
              "      <td>0.402592</td>\n",
              "      <td>0.597408</td>\n",
              "      <td>0.432433</td>\n",
              "      <td>0.567567</td>\n",
              "      <td>0.414529</td>\n",
              "      <td>0.585471</td>\n",
              "      <td>1</td>\n",
              "    </tr>\n",
              "    <tr>\n",
              "      <th>3257238</th>\n",
              "      <td>2167822</td>\n",
              "      <td>157.0</td>\n",
              "      <td>0.292419</td>\n",
              "      <td>0.707581</td>\n",
              "      <td>0.412131</td>\n",
              "      <td>0.587869</td>\n",
              "      <td>0.340304</td>\n",
              "      <td>0.659696</td>\n",
              "      <td>1</td>\n",
              "    </tr>\n",
              "  </tbody>\n",
              "</table>\n",
              "<p>3257239 rows × 9 columns</p>\n",
              "</div>\n",
              "      <button class=\"colab-df-convert\" onclick=\"convertToInteractive('df-5960f600-12f7-4d1c-9fae-8f88ffb98bea')\"\n",
              "              title=\"Convert this dataframe to an interactive table.\"\n",
              "              style=\"display:none;\">\n",
              "        \n",
              "  <svg xmlns=\"http://www.w3.org/2000/svg\" height=\"24px\"viewBox=\"0 0 24 24\"\n",
              "       width=\"24px\">\n",
              "    <path d=\"M0 0h24v24H0V0z\" fill=\"none\"/>\n",
              "    <path d=\"M18.56 5.44l.94 2.06.94-2.06 2.06-.94-2.06-.94-.94-2.06-.94 2.06-2.06.94zm-11 1L8.5 8.5l.94-2.06 2.06-.94-2.06-.94L8.5 2.5l-.94 2.06-2.06.94zm10 10l.94 2.06.94-2.06 2.06-.94-2.06-.94-.94-2.06-.94 2.06-2.06.94z\"/><path d=\"M17.41 7.96l-1.37-1.37c-.4-.4-.92-.59-1.43-.59-.52 0-1.04.2-1.43.59L10.3 9.45l-7.72 7.72c-.78.78-.78 2.05 0 2.83L4 21.41c.39.39.9.59 1.41.59.51 0 1.02-.2 1.41-.59l7.78-7.78 2.81-2.81c.8-.78.8-2.07 0-2.86zM5.41 20L4 18.59l7.72-7.72 1.47 1.35L5.41 20z\"/>\n",
              "  </svg>\n",
              "      </button>\n",
              "      \n",
              "  <style>\n",
              "    .colab-df-container {\n",
              "      display:flex;\n",
              "      flex-wrap:wrap;\n",
              "      gap: 12px;\n",
              "    }\n",
              "\n",
              "    .colab-df-convert {\n",
              "      background-color: #E8F0FE;\n",
              "      border: none;\n",
              "      border-radius: 50%;\n",
              "      cursor: pointer;\n",
              "      display: none;\n",
              "      fill: #1967D2;\n",
              "      height: 32px;\n",
              "      padding: 0 0 0 0;\n",
              "      width: 32px;\n",
              "    }\n",
              "\n",
              "    .colab-df-convert:hover {\n",
              "      background-color: #E2EBFA;\n",
              "      box-shadow: 0px 1px 2px rgba(60, 64, 67, 0.3), 0px 1px 3px 1px rgba(60, 64, 67, 0.15);\n",
              "      fill: #174EA6;\n",
              "    }\n",
              "\n",
              "    [theme=dark] .colab-df-convert {\n",
              "      background-color: #3B4455;\n",
              "      fill: #D2E3FC;\n",
              "    }\n",
              "\n",
              "    [theme=dark] .colab-df-convert:hover {\n",
              "      background-color: #434B5C;\n",
              "      box-shadow: 0px 1px 3px 1px rgba(0, 0, 0, 0.15);\n",
              "      filter: drop-shadow(0px 1px 2px rgba(0, 0, 0, 0.3));\n",
              "      fill: #FFFFFF;\n",
              "    }\n",
              "  </style>\n",
              "\n",
              "      <script>\n",
              "        const buttonEl =\n",
              "          document.querySelector('#df-5960f600-12f7-4d1c-9fae-8f88ffb98bea button.colab-df-convert');\n",
              "        buttonEl.style.display =\n",
              "          google.colab.kernel.accessAllowed ? 'block' : 'none';\n",
              "\n",
              "        async function convertToInteractive(key) {\n",
              "          const element = document.querySelector('#df-5960f600-12f7-4d1c-9fae-8f88ffb98bea');\n",
              "          const dataTable =\n",
              "            await google.colab.kernel.invokeFunction('convertToInteractive',\n",
              "                                                     [key], {});\n",
              "          if (!dataTable) return;\n",
              "\n",
              "          const docLinkHtml = 'Like what you see? Visit the ' +\n",
              "            '<a target=\"_blank\" href=https://colab.research.google.com/notebooks/data_table.ipynb>data table notebook</a>'\n",
              "            + ' to learn more about interactive tables.';\n",
              "          element.innerHTML = '';\n",
              "          dataTable['output_type'] = 'display_data';\n",
              "          await google.colab.output.renderOutput(dataTable, element);\n",
              "          const docLink = document.createElement('div');\n",
              "          docLink.innerHTML = docLinkHtml;\n",
              "          element.appendChild(docLink);\n",
              "        }\n",
              "      </script>\n",
              "    </div>\n",
              "  </div>\n",
              "  "
            ]
          },
          "metadata": {},
          "execution_count": 35
        }
      ]
    },
    {
      "cell_type": "code",
      "source": [
        "pred_lgbm['class'] = [0] * len(pred_lgbm)\n",
        "\n",
        "pred_lgbm.loc[(pred_lgbm['fin_0'] > pred_lgbm['fin_1']), 'class'] = 0\n",
        "pred_lgbm.loc[(pred_lgbm['fin_0'] <= pred_lgbm['fin_1']), 'class'] = 1"
      ],
      "metadata": {
        "id": "WSIxAWriGjwj"
      },
      "execution_count": null,
      "outputs": []
    },
    {
      "cell_type": "code",
      "execution_count": null,
      "metadata": {
        "colab": {
          "base_uri": "https://localhost:8080/"
        },
        "id": "8LL8Hjhi7yTW",
        "outputId": "997fb71e-7bc3-4224-ed0a-93426a79ce16"
      },
      "outputs": [
        {
          "output_type": "execute_result",
          "data": {
            "text/plain": [
              "0    2959141\n",
              "1     298098\n",
              "Name: class, dtype: int64"
            ]
          },
          "metadata": {},
          "execution_count": 34
        }
      ],
      "source": [
        "pred_lgbm['class'] .value_counts()"
      ]
    }
  ],
  "metadata": {
    "colab": {
      "provenance": []
    },
    "kernelspec": {
      "display_name": "Python 3",
      "language": "python",
      "name": "python3"
    },
    "language_info": {
      "codemirror_mode": {
        "name": "ipython",
        "version": 3
      },
      "file_extension": ".py",
      "mimetype": "text/x-python",
      "name": "python",
      "nbconvert_exporter": "python",
      "pygments_lexer": "ipython3",
      "version": "3.8.5"
    }
  },
  "nbformat": 4,
  "nbformat_minor": 0
}