{
  "cells": [
    {
      "cell_type": "markdown",
      "metadata": {
        "id": "27u5LIlC34BJ"
      },
      "source": [
        "# 환경 세팅"
      ]
    },
    {
      "cell_type": "code",
      "source": [
        "!pip install category_encoders"
      ],
      "metadata": {
        "id": "aCinXXJAbfIs",
        "colab": {
          "base_uri": "https://localhost:8080/"
        },
        "outputId": "bfdf0e45-e8a0-4152-e53c-ddd9fe03fbc1"
      },
      "execution_count": null,
      "outputs": [
        {
          "output_type": "stream",
          "name": "stdout",
          "text": [
            "Installing collected packages: category-encoders\n",
            "Successfully installed category-encoders-2.5.1.post0\n"
          ]
        }
      ]
    },
    {
      "cell_type": "code",
      "execution_count": null,
      "metadata": {
        "id": "0XHyUzpc4YKZ"
      },
      "outputs": [],
      "source": [
        "import pandas as pd\n",
        "from sklearn.preprocessing import StandardScaler, MinMaxScaler\n",
        "import numpy as np\n",
        "from sklearn.metrics import f1_score"
      ]
    },
    {
      "cell_type": "markdown",
      "metadata": {
        "id": "Yff8qBjh29FM"
      },
      "source": [
        "# 데이터 불러오기"
      ]
    },
    {
      "cell_type": "code",
      "execution_count": null,
      "metadata": {
        "id": "_O7-ZTQI3IRv"
      },
      "outputs": [],
      "source": [
        "train = pd.read_csv(\"/content/drive/Shareddrives/빅콘테스트/221009/1009_train.csv\")\n",
        "test = pd.read_csv(\"/content/drive/Shareddrives/빅콘테스트/221009/1009_test.csv\")\n",
        "real_test = pd.read_csv(\"/preprocessed_test.csv\")"
      ]
    },
    {
      "cell_type": "code",
      "source": [
        "test_fin = real_test.copy()"
      ],
      "metadata": {
        "id": "c2Ft0RhX4AjH"
      },
      "execution_count": null,
      "outputs": []
    },
    {
      "cell_type": "code",
      "execution_count": null,
      "metadata": {
        "id": "UITTV2BLTqzK"
      },
      "outputs": [],
      "source": [
        "df_train = train[train['week_num'] <18].reset_index(drop=True)\n",
        "df_val = train[train['week_num']>=18].reset_index(drop=True)\n",
        "train = df_train.copy()\n",
        "val = df_val.copy()"
      ]
    },
    {
      "cell_type": "code",
      "execution_count": null,
      "metadata": {
        "id": "Bj9U6QEtsEqP"
      },
      "outputs": [],
      "source": [
        "train['bank_id'] = train['bank_id'].astype(str)\n",
        "train['product_id'] = train['product_id'].astype(str)\n",
        "train['user_id'] = train['user_id'].astype(str)"
      ]
    },
    {
      "cell_type": "code",
      "execution_count": null,
      "metadata": {
        "id": "ufH2bbW0sEqP"
      },
      "outputs": [],
      "source": [
        "val['bank_id'] = val['bank_id'].astype(str)\n",
        "val['product_id'] = val['product_id'].astype(str)\n",
        "val['user_id'] = val['user_id'].astype(str)"
      ]
    },
    {
      "cell_type": "code",
      "execution_count": null,
      "metadata": {
        "id": "l6hKi9S5sEqQ"
      },
      "outputs": [],
      "source": [
        "test['bank_id'] = test['bank_id'].astype(str)\n",
        "test['product_id'] = test['product_id'].astype(str)\n",
        "test['user_id'] = test['user_id'].astype(str)"
      ]
    },
    {
      "cell_type": "code",
      "execution_count": null,
      "metadata": {
        "id": "3QMyZu7jiiFi"
      },
      "outputs": [],
      "source": [
        "real_test['bank_id'] = real_test['bank_id'].astype(str)\n",
        "real_test['product_id'] = real_test['product_id'].astype(str)\n",
        "real_test['user_id'] = real_test['user_id'].astype(str)"
      ]
    },
    {
      "cell_type": "markdown",
      "metadata": {
        "id": "UPganxzQ3i4P"
      },
      "source": [
        "# 전처리\n",
        "- standard scaling\n",
        "- onehot encoding, ordinal encoding"
      ]
    },
    {
      "cell_type": "code",
      "execution_count": null,
      "metadata": {
        "id": "4H4CuemBTqzL"
      },
      "outputs": [],
      "source": [
        "numerical_feats = train.dtypes[train.dtypes != \"object\"].index.tolist()\n",
        "numerical_feats.remove('is_applied')\n",
        "print(\"Number of Numerical features: \", len(numerical_feats))\n",
        "\n",
        "categorical_feats = train.dtypes[train.dtypes == \"object\"].index.tolist()\n",
        "print(\"Number of Categorical features: \", len(categorical_feats))\n",
        "\n",
        "test_numerical_feats = real_test.dtypes[real_test.dtypes != \"object\"].index.tolist()\n",
        "test_numerical_feats.remove('is_applied')\n",
        "print(\"Number of Numerical features for test: \", len(test_numerical_feats))\n",
        "\n",
        "test_categorical_feats = real_test.dtypes[real_test.dtypes == \"object\"].index.tolist()\n",
        "print(\"Number of Categorical features for test: \", len(test_categorical_feats))"
      ]
    },
    {
      "cell_type": "code",
      "execution_count": null,
      "metadata": {
        "id": "kVNHXKKE5Nqg"
      },
      "outputs": [],
      "source": [
        "ordinal_cate = ['bank_id','product_id','user_id']\n",
        "onehot_cate = [ 'income_type','employment_type','houseown_type','purpose']"
      ]
    },
    {
      "cell_type": "code",
      "execution_count": null,
      "metadata": {
        "id": "Nm3H_5DITqzM"
      },
      "outputs": [],
      "source": [
        "#OrdinalEncoder : 카테고리 변수는 ordinal_encoder 변환\n",
        "from category_encoders.ordinal import OrdinalEncoder\n",
        "encoder = OrdinalEncoder(ordinal_cate)\n",
        "train[ordinal_cate] = encoder.fit_transform(train[ordinal_cate], train['is_applied'])\n",
        "val[ordinal_cate] = encoder.transform(val[ordinal_cate])\n",
        "test[ordinal_cate] = encoder.transform(test[ordinal_cate])\n",
        "real_test[ordinal_cate] = encoder.transform(real_test[ordinal_cate])"
      ]
    },
    {
      "cell_type": "code",
      "execution_count": null,
      "metadata": {
        "id": "v6PpbWxn6aQ_"
      },
      "outputs": [],
      "source": [
        "from sklearn.preprocessing import OneHotEncoder\n",
        "OH_encoder = OneHotEncoder(handle_unknown='ignore', sparse=False)\n",
        "\n",
        "OH_cols_train = pd.DataFrame(OH_encoder.fit_transform(train[onehot_cate]))\n",
        "OH_cols_valid = pd.DataFrame(OH_encoder.transform(val[onehot_cate]))\n",
        "OH_cols_test = pd.DataFrame(OH_encoder.transform(test[onehot_cate]))\n",
        "OH_cols_real_test = pd.DataFrame(OH_encoder.transform(real_test[onehot_cate]))\n",
        "\n",
        "OH_cols_train.index = train.index\n",
        "OH_cols_valid.index = val.index\n",
        "OH_cols_test.index = test.index\n",
        "OH_cols_real_test.index = real_test.index\n",
        "\n",
        "OH_cols_train.columns = OH_encoder.get_feature_names(onehot_cate)\n",
        "OH_cols_valid.columns = OH_encoder.get_feature_names(onehot_cate)\n",
        "OH_cols_test.columns = OH_encoder.get_feature_names(onehot_cate)\n",
        "OH_cols_real_test.columns = OH_encoder.get_feature_names(onehot_cate)\n",
        "\n",
        "num_X_train = train.drop(onehot_cate, axis=1)\n",
        "num_X_valid = val.drop(onehot_cate, axis=1)\n",
        "num_X_test = test.drop(onehot_cate, axis=1)\n",
        "num_X_real_test = real_test.drop(onehot_cate, axis=1)\n",
        "\n",
        "\n",
        "train = pd.concat([num_X_train, OH_cols_train], axis=1)\n",
        "val= pd.concat([num_X_valid, OH_cols_valid], axis=1)\n",
        "test= pd.concat([num_X_test, OH_cols_test], axis=1)\n",
        "real_test= pd.concat([num_X_real_test, OH_cols_real_test], axis=1)"
      ]
    },
    {
      "cell_type": "code",
      "execution_count": null,
      "metadata": {
        "id": "RJ_rSrHRTqzN"
      },
      "outputs": [],
      "source": [
        "scaler = StandardScaler()\n",
        "train[numerical_feats] = scaler.fit_transform(train[numerical_feats])\n",
        "val[numerical_feats] = scaler.transform(val[numerical_feats])\n",
        "test[numerical_feats] = scaler.transform(test[numerical_feats])\n",
        "real_test[numerical_feats] = scaler.transform(real_test[numerical_feats])"
      ]
    },
    {
      "cell_type": "markdown",
      "source": [
        "## 전처리한거 다시 다운"
      ],
      "metadata": {
        "id": "t09wSKTq6R1e"
      }
    },
    {
      "cell_type": "code",
      "source": [
        "train = pd.read_csv(\"/train.csv\")\n",
        "val = pd.read_csv(\"/val.csv\")\n",
        "real_test = pd.read_csv(\"/real_test.csv\")"
      ],
      "metadata": {
        "id": "Smy3B-RzmlDh"
      },
      "execution_count": null,
      "outputs": []
    },
    {
      "cell_type": "code",
      "source": [
        "target = 'is_applied'\n",
        "X_train, X_valid, y_train, y_valid = train.drop(target, axis=1), val.drop(target, axis=1), train[target], val[target]\n",
        "X_real_test = real_test.drop(target, axis=1)"
      ],
      "metadata": {
        "id": "H551V-paTqzO"
      },
      "execution_count": null,
      "outputs": []
    },
    {
      "cell_type": "markdown",
      "metadata": {
        "id": "4YqceMqww8NH"
      },
      "source": [
        "# LGBM"
      ]
    },
    {
      "cell_type": "code",
      "execution_count": null,
      "metadata": {
        "id": "TShY6DlnxuVT"
      },
      "outputs": [],
      "source": [
        "from sklearn.model_selection import cross_val_score\n",
        "def LGBM_objective(trial):\n",
        "    max_depth = trial.suggest_int('max_depth', 1, 10)\n",
        "    max_leaf_nodes = trial.suggest_int('max_leaf_nodes', 2, 1000)\n",
        "    n_estimators =  trial.suggest_int('n_estimators', 100, 500)\n",
        "\n",
        "    model = LGBMClassifier(max_depth = max_depth, max_leaf_nodes = max_leaf_nodes,n_estimators = n_estimators,n_jobs=2,random_state=25)\n",
        "\n",
        "\n",
        "    model.fit(X_train.drop(['application_id', 'loanapply_insert_time'],axis=1), y_train)\n",
        "    y_pred = model.predict(X_valid.drop(['application_id', 'loanapply_insert_time'],axis=1))\n",
        "    score = f1_score(y_pred, y_valid)\n",
        "\n",
        "    return score\n",
        "\n",
        "#Execute optuna and set hyperparameters\n",
        "LGMB_study = optuna.create_study(direction='maximize')\n",
        "LGMB_study.optimize(LGBM_objective, n_trials=10)\n",
        "\n",
        "#Create an instance with tuned hyperparameters\n",
        "optimized_LGMB = LGBMClassifier(max_depth = LGMB_study.best_params['max_depth'], max_leaf_nodes = LGMB_study.best_params['max_leaf_nodes'],\n",
        "                                      n_estimators = LGMB_study.best_params['n_estimators'],n_jobs=2,random_state=25)"
      ]
    },
    {
      "cell_type": "code",
      "execution_count": null,
      "metadata": {
        "colab": {
          "base_uri": "https://localhost:8080/"
        },
        "id": "uxX8E8TIyG8j",
        "outputId": "50f113ad-67ca-4e02-a8b0-7faad4ae5c45"
      },
      "outputs": [
        {
          "data": {
            "text/plain": [
              "LGBMClassifier(max_depth=9, max_leaf_nodes=327, n_estimators=125, n_jobs=2,\n",
              "               random_state=25)"
            ]
          },
          "execution_count": 21,
          "metadata": {},
          "output_type": "execute_result"
        }
      ],
      "source": [
        "optimized_LGMB.fit(X_train.drop(['application_id', 'loanapply_insert_time'],axis=1), y_train)"
      ]
    },
    {
      "cell_type": "code",
      "execution_count": null,
      "metadata": {
        "id": "73c6r3Ev2VqH"
      },
      "outputs": [],
      "source": [
        "pred=optimized_LGMB.predict(X_test.drop(['application_id', 'loanapply_insert_time'],axis=1))\n",
        "score_test=f1_score(pred, y_test)\n",
        "print(score_test)"
      ]
    },
    {
      "cell_type": "markdown",
      "metadata": {
        "id": "XHgPOQ0Thy-6"
      },
      "source": [
        "## test 예측"
      ]
    },
    {
      "cell_type": "code",
      "execution_count": null,
      "metadata": {
        "id": "9Z2lWbffjgqJ"
      },
      "outputs": [],
      "source": [
        "import joblib\n",
        "optimized_LGBM = joblib.load(\"/content/drive/Shareddrives/빅콘테스트/데이터분석분야_퓨처스부문_이달의사원_추가제출파일/추가제출파일/Raw 데이터/lgbm.pkl\")"
      ]
    },
    {
      "cell_type": "code",
      "execution_count": null,
      "metadata": {
        "id": "-WpKXPZrh2jb"
      },
      "outputs": [],
      "source": [
        "pred=optimized_LGBM.predict(X_real_test.drop(['application_id', 'loanapply_insert_time'],axis=1))\n",
        "pred_prob = optimized_LGBM.predict_proba(X_real_test.drop(['application_id', 'loanapply_insert_time'],axis=1))\n",
        "\n",
        "pred"
      ]
    },
    {
      "cell_type": "code",
      "source": [
        "pred_lgbm_0 =[]\n",
        "for i in range(len(test_fin)):\n",
        "    pred_lgbm_0.append(pred_prob[i][0])\n",
        "\n",
        "pred_lgbm_1 =[]\n",
        "for i in range(len(test_fin)):\n",
        "    pred_lgbm_1.append(pred_prob[i][1])"
      ],
      "metadata": {
        "id": "mzgJybzNnkuK"
      },
      "execution_count": null,
      "outputs": []
    },
    {
      "cell_type": "code",
      "source": [
        "prediction_df = pd.DataFrame(test_fin['application_id'], columns=['application_id'])\n",
        "prediction_df['loanapply_insert_time'] = test_fin['loanapply_insert_time']\n",
        "prediction_df['bank_id'] = test_fin['bank_id']\n",
        "prediction_df['product_id'] = test_fin['product_id']\n",
        "prediction_df['loan_limit'] = test_fin['loan_limit']\n",
        "prediction_df['loan_rate'] = test_fin['loan_rate']\n",
        "prediction_df['pred_lgb0'] = pred_lgbm_0\n",
        "prediction_df['pred_lgb1'] = pred_lgbm_1\n",
        "\n",
        "prediction_df"
      ],
      "metadata": {
        "id": "dH3tQPYA8sSg"
      },
      "execution_count": null,
      "outputs": []
    },
    {
      "cell_type": "code",
      "source": [
        "pred.sum()"
      ],
      "metadata": {
        "id": "C2ymGNvl88Gb"
      },
      "execution_count": null,
      "outputs": []
    },
    {
      "cell_type": "code",
      "source": [
        "prediction_df = prediction_df.sort_values(by=['application_id', 'loanapply_insert_time', 'bank_id', 'product_id', 'loan_limit']).reset_index(drop=True)\n",
        "prediction_df"
      ],
      "metadata": {
        "id": "KItu8vnmtdkm"
      },
      "execution_count": null,
      "outputs": []
    },
    {
      "cell_type": "markdown",
      "metadata": {
        "id": "Y6mcYBfmqpIq"
      },
      "source": [
        "# RF"
      ]
    },
    {
      "cell_type": "markdown",
      "metadata": {
        "id": "GQMAsqEOqsoa"
      },
      "source": [
        "## 추가 전처리"
      ]
    },
    {
      "cell_type": "code",
      "execution_count": null,
      "metadata": {
        "id": "sRvuYcnnqrA1"
      },
      "outputs": [],
      "source": [
        "# 변수 select first_bank, product_type 일단 빼기\n",
        "train.drop(labels=[ 'employment_type_계약직', 'income_type_EARNEDINCOME2', 'income_type_PRIVATEBUSINESS', 'purpose_사업자금', 'purpose_기타', 'income_type_FREELANCER',\n",
        "                 'income_type_OTHERINCOME', 'purpose_전월세보증금', 'employment_type_일용직', 'income_type_PRACTITIONER', 'purpose_투자', 'purpose_주택구입', 'foreign',\n",
        "                 'purpose_자동차구입', 'personal_rehabilitation_type', 'houseown_type_배우자'],axis=1,inplace=True)\n",
        "val.drop(labels=[ 'employment_type_계약직', 'income_type_EARNEDINCOME2', 'income_type_PRIVATEBUSINESS', 'purpose_사업자금', 'purpose_기타', 'income_type_FREELANCER',\n",
        "                 'income_type_OTHERINCOME', 'purpose_전월세보증금', 'employment_type_일용직', 'income_type_PRACTITIONER', 'purpose_투자', 'purpose_주택구입', 'foreign',\n",
        "                 'purpose_자동차구입', 'personal_rehabilitation_type', 'houseown_type_배우자'],axis=1,inplace=True)\n",
        "real_test.drop(labels=[ 'employment_type_계약직', 'income_type_EARNEDINCOME2', 'income_type_PRIVATEBUSINESS', 'purpose_사업자금', 'purpose_기타', 'income_type_FREELANCER',\n",
        "                   'income_type_OTHERINCOME', 'purpose_전월세보증금', 'employment_type_일용직', 'income_type_PRACTITIONER', 'purpose_투자', 'purpose_주택구입', 'foreign',\n",
        "                   'purpose_자동차구입', 'personal_rehabilitation_type', 'houseown_type_배우자'],axis=1,inplace=True)"
      ]
    },
    {
      "cell_type": "code",
      "execution_count": null,
      "metadata": {
        "id": "KJa8qd6IsIb0"
      },
      "outputs": [],
      "source": [
        "target = 'is_applied'\n",
        "X_train, X_valid, y_train, y_valid = train.drop(target, axis=1), val.drop(target, axis=1), train[target], val[target]\n",
        "X_real_test = real_test.drop(target, axis=1)"
      ]
    },
    {
      "cell_type": "markdown",
      "metadata": {
        "id": "dQP6S409sTVt"
      },
      "source": [
        "## 모델링"
      ]
    },
    {
      "cell_type": "code",
      "execution_count": null,
      "metadata": {
        "colab": {
          "base_uri": "https://localhost:8080/"
        },
        "id": "57BZ05M0sU_C",
        "outputId": "bfb824e5-b5b3-4b62-fd02-cba4fe090d85"
      },
      "outputs": [
        {
          "name": "stdout",
          "output_type": "stream",
          "text": [
            "F1 Score: 0.502221\n"
          ]
        }
      ],
      "source": [
        "from sklearn.ensemble import ExtraTreesClassifier, RandomForestClassifier\n",
        "model =  RandomForestClassifier(n_estimators=100, random_state=42, min_samples_leaf = 5)\n",
        "model.fit(X_train.drop(['application_id','loanapply_insert_time'], axis=1), y_train)\n",
        "model_pred = model.predict(X_valid.drop(['application_id','loanapply_insert_time'], axis=1))\n",
        "print(f'F1 Score: {f1_score(y_valid, model_pred):.6f}')"
      ]
    },
    {
      "cell_type": "code",
      "execution_count": null,
      "metadata": {
        "id": "CWZi4XoluK_N"
      },
      "outputs": [],
      "source": [
        "import joblib\n",
        "\n",
        "joblib.dump(model,\"/RF.pkl\")"
      ]
    },
    {
      "cell_type": "code",
      "execution_count": null,
      "metadata": {
        "colab": {
          "base_uri": "https://localhost:8080/"
        },
        "id": "DjA-KHXltuLT",
        "outputId": "30b06f82-9453-492c-9e92-d98c4ee65dba"
      },
      "outputs": [
        {
          "name": "stdout",
          "output_type": "stream",
          "text": [
            "F1 Score: 0.433371\n"
          ]
        }
      ],
      "source": [
        "test_pred = model.predict(X_test.drop(['application_id','loanapply_insert_time'], axis=1))\n",
        "test_pred_prob = model.predict_proba(X_test.drop(['application_id','loanapply_insert_time'], axis=1))\n",
        "print(f'F1 Score: {f1_score(y_test, test_pred):.6f}')"
      ]
    },
    {
      "cell_type": "code",
      "execution_count": null,
      "metadata": {
        "colab": {
          "base_uri": "https://localhost:8080/"
        },
        "id": "YjB7qv21uiu3",
        "outputId": "d32ec0c1-93b1-4ba2-c14e-ec4245644c22"
      },
      "outputs": [
        {
          "data": {
            "text/plain": [
              "array([1., 1., 0., ..., 1., 1., 1.])"
            ]
          },
          "execution_count": 36,
          "metadata": {},
          "output_type": "execute_result"
        }
      ],
      "source": [
        "test_pred"
      ]
    },
    {
      "cell_type": "markdown",
      "metadata": {
        "id": "IbLgIG_cxQ0g"
      },
      "source": [
        "# test 예측"
      ]
    },
    {
      "cell_type": "code",
      "execution_count": null,
      "metadata": {
        "id": "biu4wiEayv8d"
      },
      "outputs": [],
      "source": [
        "import joblib\n",
        "model = joblib.load(\"/content/drive/Shareddrives/빅콘테스트/데이터분석분야_퓨처스부문_이달의사원_추가제출파일/추가제출파일/Raw 데이터/RF.pkl\")"
      ]
    },
    {
      "cell_type": "code",
      "execution_count": null,
      "metadata": {
        "colab": {
          "base_uri": "https://localhost:8080/"
        },
        "id": "hIyOZvP3xWTf",
        "outputId": "b8eb8992-cdf9-459f-820b-f7f371ec833b"
      },
      "outputs": [
        {
          "output_type": "execute_result",
          "data": {
            "text/plain": [
              "array([0., 0., 0., ..., 0., 0., 0.])"
            ]
          },
          "metadata": {},
          "execution_count": 10
        }
      ],
      "source": [
        "pred=model.predict(X_real_test.drop(['application_id','loanapply_insert_time'],axis=1))\n",
        "pred_prob = model.predict_proba(X_real_test.drop(['application_id', 'loanapply_insert_time'],axis=1))\n",
        "pred"
      ]
    },
    {
      "cell_type": "code",
      "source": [
        "pred.sum()"
      ],
      "metadata": {
        "colab": {
          "base_uri": "https://localhost:8080/"
        },
        "id": "L-YcpwZ1_L2a",
        "outputId": "e55de752-8077-4367-8b5b-9afbf0e3e344"
      },
      "execution_count": null,
      "outputs": [
        {
          "output_type": "execute_result",
          "data": {
            "text/plain": [
              "226647.0"
            ]
          },
          "metadata": {},
          "execution_count": 11
        }
      ]
    },
    {
      "cell_type": "code",
      "source": [
        "pred_rf_0 =[]\n",
        "for i in range(len(test_fin)):\n",
        "    pred_rf_0.append(pred_prob[i][0])\n",
        "\n",
        "pred_rf_1 =[]\n",
        "for i in range(len(test_fin)):\n",
        "    pred_rf_1.append(pred_prob[i][1])"
      ],
      "metadata": {
        "id": "oW1PkFyoEd9w"
      },
      "execution_count": null,
      "outputs": []
    },
    {
      "cell_type": "code",
      "source": [
        "prediction_df = pd.DataFrame(test_fin['application_id'], columns=['application_id'])\n",
        "prediction_df['loanapply_insert_time'] = test_fin['loanapply_insert_time']\n",
        "prediction_df['bank_id'] = test_fin['bank_id']\n",
        "prediction_df['product_id'] = test_fin['product_id']\n",
        "prediction_df['loan_limit'] = test_fin['loan_limit']\n",
        "prediction_df['loan_rate'] = test_fin['loan_rate']\n",
        "prediction_df['pred_rf0'] = pred_rf_0\n",
        "prediction_df['pred_rf1'] = pred_rf_1\n",
        "\n",
        "prediction_df"
      ],
      "metadata": {
        "id": "2Hxo2nih9LQh"
      },
      "execution_count": null,
      "outputs": []
    },
    {
      "cell_type": "code",
      "source": [
        "prediction_df = prediction_df.sort_values(by=['application_id', 'loanapply_insert_time', 'bank_id', 'product_id', 'loan_limit']).reset_index(drop=True)\n",
        "prediction_df"
      ],
      "metadata": {
        "id": "4lhLcdNm9LQi"
      },
      "execution_count": null,
      "outputs": []
    },
    {
      "cell_type": "code",
      "source": [
        "prediction_df[['application_id', 'product_id','pred_rf0', 'pred_rf1']].to_csv(\"//pred_rf.csv\", index=False)"
      ],
      "metadata": {
        "id": "9GCGiIJv9LQi"
      },
      "execution_count": null,
      "outputs": []
    },
    {
      "cell_type": "markdown",
      "metadata": {
        "id": "_n7E25b1quvA"
      },
      "source": [
        "# 앙상블"
      ]
    },
    {
      "cell_type": "code",
      "execution_count": null,
      "metadata": {
        "id": "TJj4-KyoqvpA"
      },
      "outputs": [],
      "source": [
        "pred_lgbm = pd.read_csv(\"/pred_lgbm.csv\")"
      ]
    },
    {
      "cell_type": "code",
      "source": [
        "pred_rf = pd.read_csv(\"/pred_rf.csv\")"
      ],
      "metadata": {
        "id": "-ema1Fsg_ZKR"
      },
      "execution_count": null,
      "outputs": []
    },
    {
      "cell_type": "code",
      "source": [
        "pred_lgbm"
      ],
      "metadata": {
        "id": "yapybk7G_gCq"
      },
      "execution_count": null,
      "outputs": []
    },
    {
      "cell_type": "code",
      "source": [
        "pred_rf"
      ],
      "metadata": {
        "id": "GZ3OSwDC_gv1"
      },
      "execution_count": null,
      "outputs": []
    },
    {
      "cell_type": "code",
      "execution_count": null,
      "metadata": {
        "id": "aexkErTM7UBB"
      },
      "outputs": [],
      "source": [
        "pred_lgbm['pred_rf0'] = pred_rf['pred_rf0']\n",
        "pred_lgbm['pred_rf1'] = pred_rf['pred_rf1']"
      ]
    },
    {
      "cell_type": "code",
      "execution_count": null,
      "metadata": {
        "id": "dzy_wcOw7Vwi"
      },
      "outputs": [],
      "source": [
        "pred_lgbm['fin_0'] = pred_lgbm['pred_lgb0']*0.6+pred_lgbm['pred_rf0']*0.4\n",
        "pred_lgbm['fin_1'] = pred_lgbm['pred_lgb1']*0.6+pred_lgbm['pred_rf1']*0.4"
      ]
    },
    {
      "cell_type": "code",
      "source": [
        "pred_lgbm"
      ],
      "metadata": {
        "id": "U7zQOmFvGym4"
      },
      "execution_count": null,
      "outputs": []
    },
    {
      "cell_type": "code",
      "source": [
        "pred_lgbm['class'] = [0] * len(pred_lgbm)\n",
        "\n",
        "pred_lgbm.loc[(pred_lgbm['fin_0'] > pred_lgbm['fin_1']), 'class'] = 0\n",
        "pred_lgbm.loc[(pred_lgbm['fin_0'] <= pred_lgbm['fin_1']), 'class'] = 1"
      ],
      "metadata": {
        "id": "WSIxAWriGjwj"
      },
      "execution_count": null,
      "outputs": []
    },
    {
      "cell_type": "code",
      "execution_count": null,
      "metadata": {
        "id": "8LL8Hjhi7yTW"
      },
      "outputs": [],
      "source": [
        "pred_lgbm['class'] .value_counts()"
      ]
    }
  ],
  "metadata": {
    "colab": {
      "provenance": []
    },
    "kernelspec": {
      "display_name": "Python 3",
      "language": "python",
      "name": "python3"
    },
    "language_info": {
      "codemirror_mode": {
        "name": "ipython",
        "version": 3
      },
      "file_extension": ".py",
      "mimetype": "text/x-python",
      "name": "python",
      "nbconvert_exporter": "python",
      "pygments_lexer": "ipython3",
      "version": "3.8.5"
    }
  },
  "nbformat": 4,
  "nbformat_minor": 0
}